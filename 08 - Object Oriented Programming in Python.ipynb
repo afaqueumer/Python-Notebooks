{
 "cells": [
  {
   "cell_type": "markdown",
   "id": "ec1bc1aa",
   "metadata": {},
   "source": [
    "# Object Oriented Programming `(OOP)` in Python\n",
    "\n",
    "- Everything in Python, from numbers to functions, is an object.  \n",
    "* OOP is a programming paradigm that involves designing programs around __`Objects`__.\n",
    "- Object-oriented programming (OOP) is a programming paradigm that involves structuring a program by bundling related `properties` and `behaviors` into individual __`objects`__.\n",
    "\n",
    "### What are Objects ?\n",
    "- An object is a custom data structure containing both __`data`__ (variables, called attributes) and __`code`__ (functions, called methods).\n",
    "- An object represents an individual thing, and its methods define how it interacts with other things.\n",
    "     Example - an object could represent a person with properties like a name, age, and address and behaviors such as walking, talking, breathing, and running.\n",
    "     \n",
    "     \n",
    "Primitive data structures like numbers, strings, and lists are designed to represent simple pieces of information, such as the cost of an apple, the name of a poem, or your favorite colors, respectively. What if you want to represent something more complex? A great way to manage and maintain is to use classes.\n",
    "\n",
    "### `Class`\n",
    "\n",
    "* A class is a blueprint for the object.\n",
    "\n",
    "* A collection of functions and attributes, attached to a specific name, which represents an abstract concept.\n",
    "\n",
    "* Classes describe data and provide methods to manipulate that data, all encompassed under a single object.\n",
    "\n",
    "To create a new object that no one has ever created before, you first define a `class` that indicates what it contains.\n",
    "\n",
    "An attribute is a variable inside a class or object. During and after an object or class is created, you can assign attributes to it."
   ]
  },
  {
   "cell_type": "code",
   "execution_count": 1,
   "id": "cdb11257",
   "metadata": {},
   "outputs": [
    {
     "name": "stdout",
     "output_type": "stream",
     "text": [
      "<__main__.Cat object at 0x00000206E2DA4B80>\n"
     ]
    }
   ],
   "source": [
    "class Cat:\n",
    "    pass\n",
    "\n",
    "# Instance of Cat : construct (i.e., create) an object or instance of the class Cat.\n",
    "instance_of_cat = Cat()\n",
    "\n",
    "\n",
    "print(instance_of_cat)"
   ]
  },
  {
   "cell_type": "markdown",
   "id": "1d3ca94f",
   "metadata": {},
   "source": [
    "__`Instance`__ : \n",
    "- Defines an object created from the specification provided by a class. Python can create __(`Instantiation`)__ as many instances of a class to perform the work required by an application. Each instance is unique.\n",
    "- An instance is like a form that has been filled out with information. Just like many people can fill out the same form with their own unique information, many instances can be created from a single class."
   ]
  },
  {
   "cell_type": "code",
   "execution_count": 2,
   "id": "1a3f8e5b",
   "metadata": {},
   "outputs": [
    {
     "name": "stdout",
     "output_type": "stream",
     "text": [
      "<__main__.Cat object at 0x00000206E2DCE130>\n"
     ]
    }
   ],
   "source": [
    "#This instance/object will be stored at different location. \n",
    "another_instance_of_cat = Cat()\n",
    "print(another_instance_of_cat)"
   ]
  },
  {
   "cell_type": "code",
   "execution_count": 3,
   "id": "16ac1bbd",
   "metadata": {
    "scrolled": false
   },
   "outputs": [
    {
     "data": {
      "text/plain": [
       "['__class__',\n",
       " '__delattr__',\n",
       " '__dict__',\n",
       " '__dir__',\n",
       " '__doc__',\n",
       " '__eq__',\n",
       " '__format__',\n",
       " '__ge__',\n",
       " '__getattribute__',\n",
       " '__gt__',\n",
       " '__hash__',\n",
       " '__init__',\n",
       " '__init_subclass__',\n",
       " '__le__',\n",
       " '__lt__',\n",
       " '__module__',\n",
       " '__ne__',\n",
       " '__new__',\n",
       " '__reduce__',\n",
       " '__reduce_ex__',\n",
       " '__repr__',\n",
       " '__setattr__',\n",
       " '__sizeof__',\n",
       " '__str__',\n",
       " '__subclasshook__',\n",
       " '__weakref__']"
      ]
     },
     "execution_count": 3,
     "metadata": {},
     "output_type": "execute_result"
    }
   ],
   "source": [
    "#We can take a look at the capabilities of an object by looking at the output of the dir() function:\n",
    "\n",
    "dir(instance_of_cat)"
   ]
  },
  {
   "cell_type": "markdown",
   "id": "907e22b8",
   "metadata": {},
   "source": [
    "    In this case, calling Cat() creates two individual objects from the Cat class, and we assigned them to the names a_cat and another_cat. But our Cat class had no other code, so the objects that we created from it just sit there and can’t do much else."
   ]
  },
  {
   "cell_type": "markdown",
   "id": "d9f48782",
   "metadata": {},
   "source": [
    "### Attribute vs Methods\n",
    "\n",
    "\n",
    "### __`Attribute`__\n",
    "\n",
    "- An attribute is a characteristic of an object\n",
    "- An attribute is a variable inside a class or object. During and after an object or class is created, you can assign attributes to it. \n",
    "- An attribute can be any other object.\n",
    "\n",
    "- If you want to assign object attributes at creation time, you need the special Python object initialization method `__init__()`, this method is called the __`initializer`__.\n",
    "- Attributes that apply to a specific instance of a class (an object) are called __`instance attributes`__. They are generally defined inside `__init__()`. An instance attribute’s value is specific to a particular instance of the class. \n",
    "\n",
    "- A __`class attributes`__ are attributes that have the same value for all class instances. You can define a class attribute by assigning a value to a variable name outside of `__init__()`.\n",
    "\n",
    "### __`Methods`__\n",
    "- A method is a function in a class or object. A method is an operation we can perform with the object. A method looks like any other function, but can be used in special ways.\n",
    "- Every method, included in the class definition passes the object in question as its first parameter. The word `self` is used for this parameter (usage of self is actually by convention, as the word self has no inherent meaning in Python, but this is one of Python's most respected conventions, and you should always follow it)."
   ]
  },
  {
   "cell_type": "code",
   "execution_count": 4,
   "id": "53751c80",
   "metadata": {},
   "outputs": [],
   "source": [
    "class Cat:\n",
    "    def __init__(self):\n",
    "        self.legs = 4"
   ]
  },
  {
   "cell_type": "markdown",
   "id": "37581f9f",
   "metadata": {},
   "source": [
    "Every instance of the class __Cat__ will have the same variable --> __legs__ and start at the same value --> __4__."
   ]
  },
  {
   "cell_type": "code",
   "execution_count": 5,
   "id": "2fd1628b",
   "metadata": {},
   "outputs": [],
   "source": [
    "cat_1 = Cat()\n",
    "cat_2 = Cat()"
   ]
  },
  {
   "cell_type": "code",
   "execution_count": 6,
   "id": "29bee8ac",
   "metadata": {},
   "outputs": [
    {
     "name": "stdout",
     "output_type": "stream",
     "text": [
      "4\n",
      "4\n"
     ]
    }
   ],
   "source": [
    "print(cat_1.legs) ## Attributes\n",
    "print(cat_2.legs) ## Attributes"
   ]
  },
  {
   "cell_type": "code",
   "execution_count": 7,
   "id": "eb20845c",
   "metadata": {},
   "outputs": [],
   "source": [
    "class Cat:\n",
    "    legs = 4 ##class attribute\n",
    "    \n",
    "    def __init__(self, name):\n",
    "        self.name = name  ##instance attribute\n",
    "        \n",
    "    def speak(self):\n",
    "        return (f\"My name is {self.name}, I have {self.legs} legs!\")"
   ]
  },
  {
   "cell_type": "code",
   "execution_count": 8,
   "id": "d8548290",
   "metadata": {},
   "outputs": [],
   "source": [
    "cat_1 = Cat(\"Oliver\") \n",
    "cat_2 = Cat(\"Oreo\")"
   ]
  },
  {
   "cell_type": "code",
   "execution_count": 9,
   "id": "e54838cc",
   "metadata": {
    "scrolled": true
   },
   "outputs": [
    {
     "name": "stdout",
     "output_type": "stream",
     "text": [
      "4\n",
      "Oliver\n",
      "My name is Oliver, I have 4 legs!\n"
     ]
    }
   ],
   "source": [
    "print(cat_1.legs) ## Attribute (class)\n",
    "print(cat_1.name) ## Attribute (instance)\n",
    "print(cat_1.speak()) ## Method"
   ]
  },
  {
   "cell_type": "code",
   "execution_count": 10,
   "id": "e5d5fdff",
   "metadata": {},
   "outputs": [
    {
     "name": "stdout",
     "output_type": "stream",
     "text": [
      "4\n",
      "Oreo\n",
      "My name is Oreo, I have 4 legs!\n"
     ]
    }
   ],
   "source": [
    "print(cat_2.legs) ## Attribute (class)\n",
    "print(cat_2.name) ## Attribute (instance)\n",
    "print(cat_2.speak()) ## Method"
   ]
  },
  {
   "cell_type": "markdown",
   "id": "f71df8e9",
   "metadata": {},
   "source": [
    "__Note :__ We don't have any parentheses after legs, name; this is because they are attributes and doesn't take any arguments."
   ]
  },
  {
   "cell_type": "markdown",
   "id": "bb795e81",
   "metadata": {},
   "source": [
    "### 4 Pillars of OOP :\n",
    "\n",
    "Object-Oriented Programming methodologies deal with the following concepts.\n",
    "\n",
    "\n",
    "\n",
    "1. __Encapsulation__\n",
    "2. __Abstraction__\n",
    "3. __Inheritance__\n",
    "4. __Polymorphism__\n",
    "\n"
   ]
  },
  {
   "cell_type": "markdown",
   "id": "00290aa7",
   "metadata": {},
   "source": [
    "### __`Encapsulation`__ \n",
    "- Encapsulation in Python describes the concept of bundling data (attributes) and methods within a single unit. So, for example, when you create a class, it means you are implementing encapsulation. A class is an example of encapsulation as it binds all the data members (instance variables) and methods into a single unit.\n",
    "\n",
    "- We can restrict access to methods and variables. This prevents data from direct modification which is called encapsulation. In Python, we denote private attributes using underscore as the prefix i.e single \"_\" or double \"__\"\n",
    "\n",
    "    `__variable` - __Private Member__ --> Accessible only within a class.\n",
    "    \n",
    "    `_variable` - __Protected Member__ --> Accessible within class & its subclasses.\n"
   ]
  },
  {
   "cell_type": "code",
   "execution_count": 11,
   "id": "3767d530",
   "metadata": {},
   "outputs": [
    {
     "name": "stdout",
     "output_type": "stream",
     "text": [
      "Name:  Mike Salary: 10000\n",
      "Name:  Mike Salary: 10000\n"
     ]
    }
   ],
   "source": [
    "class Employee:\n",
    "    # constructor\n",
    "    def __init__(self, name, salary):\n",
    "        # public data members\n",
    "        self.name = name\n",
    "        self.salary = salary\n",
    "\n",
    "    # public instance methods\n",
    "    def show(self):\n",
    "        # accessing public data member\n",
    "        print(\"Name: \", self.name, 'Salary:', self.salary)\n",
    "\n",
    "# creating object of a class\n",
    "emp = Employee('Mike', 10000)\n",
    "\n",
    "# accessing public data members\n",
    "print(\"Name: \", emp.name, 'Salary:', emp.salary)\n",
    "\n",
    "# calling public method of the class\n",
    "emp.show()"
   ]
  },
  {
   "cell_type": "code",
   "execution_count": 12,
   "id": "928e800a",
   "metadata": {
    "scrolled": true
   },
   "outputs": [
    {
     "name": "stdout",
     "output_type": "stream",
     "text": [
      "Accessing private members outside class throws --> 'Employee' object has no attribute '__salary'\n",
      "Name:  Mike Salary: 10000\n"
     ]
    }
   ],
   "source": [
    "class Employee:\n",
    "    # constructor\n",
    "    def __init__(self, name, salary):\n",
    "        # public data member\n",
    "        self.name = name\n",
    "        # private member\n",
    "        self.__salary = salary\n",
    "        \n",
    "     # public instance methods\n",
    "    def show(self):\n",
    "        # accessing public & private data member, private members are accessible from a class\n",
    "        print(\"Name: \", self.name, 'Salary:', self.__salary)\n",
    "\n",
    "# creating object of a class\n",
    "emp = Employee('Mike', 10000)\n",
    "\n",
    "# accessing private data members outside the class will throw error\n",
    "try:\n",
    "    print('Salary:', emp.__salary)\n",
    "except Exception as e:\n",
    "    print(f\"Accessing private members outside class throws --> {e}\")\n",
    "    \n",
    "    \n",
    "# To access private members we can use public/instance methods\n",
    "emp.show()"
   ]
  },
  {
   "cell_type": "markdown",
   "id": "cc29f5f7",
   "metadata": {},
   "source": [
    "__Note :__ Protected data members are used when you implement __inheritance__ and want to allow data members access to only child classes."
   ]
  },
  {
   "cell_type": "markdown",
   "id": "21b97115",
   "metadata": {},
   "source": [
    "### __`Abstraction`__  \n",
    "\n",
    "- Abstraction is used to hide the internal functionality of the function from the users. The users only interact with the basic implementation of the function, but inner working is hidden. User is familiar with that __\"what function does\"__ but they don't know __\"how it does\"__.\n",
    "\n",
    "- Suppose you booked a movie ticket from bookmyshow using net banking or any other process. You don’t know the procedure of how the pin is generated or how the verification is done. This is called ‘abstraction’\n",
    "\n",
    "\n"
   ]
  },
  {
   "cell_type": "code",
   "execution_count": 13,
   "id": "0bdd65eb",
   "metadata": {},
   "outputs": [
    {
     "name": "stdout",
     "output_type": "stream",
     "text": [
      "Name:  Mike Salary: 10000\n"
     ]
    }
   ],
   "source": [
    "# In the above example, All I know is that emp object has access to the \"show\" method and I can use it\n",
    "# to show employee details without knowing how it was implemented. \n",
    "emp.show()"
   ]
  },
  {
   "cell_type": "markdown",
   "id": "849fbe0f",
   "metadata": {},
   "source": [
    "### __`Inheritance`__  \n",
    "\n",
    "- Inheritance is the process by which one class takes on the attributes and methods of another. Newly formed classes are called child classes, and the classes that __`child classes`__ are derived from are called __`parent classes`__.\n",
    "\n",
    "- Child classes can override or extend the attributes and methods of parent classes."
   ]
  },
  {
   "cell_type": "code",
   "execution_count": 14,
   "id": "e92042d2",
   "metadata": {},
   "outputs": [],
   "source": [
    "# Parent class\n",
    "class Vehicle:\n",
    "\n",
    "    def __init__(self, name, color, price):\n",
    "        self.name = name\n",
    "        self.color = color\n",
    "        self.price = price\n",
    "\n",
    "    def info(self):\n",
    "        print(self.name, self.color, self.price)"
   ]
  },
  {
   "cell_type": "code",
   "execution_count": 15,
   "id": "7faf460a",
   "metadata": {},
   "outputs": [
    {
     "name": "stdout",
     "output_type": "stream",
     "text": [
      "Mustang Black 50000\n",
      "Mustang change gear to number 3\n"
     ]
    }
   ],
   "source": [
    "# Child class\n",
    "class Car(Vehicle):\n",
    "\n",
    "    def change_gear(self, no):\n",
    "        print(self.name, 'change gear to number', no)\n",
    "\n",
    "# Create object of Car\n",
    "car = Car('Mustang', 'Black', 50000)\n",
    "\n",
    "# Accessing parent class method\n",
    "car.info()\n",
    "\n",
    "# Accessing child class method\n",
    "car.change_gear(3)"
   ]
  },
  {
   "cell_type": "markdown",
   "id": "e1e94479",
   "metadata": {},
   "source": [
    "__Note :__\n",
    "\n",
    "- When you add the `__init__()` function, the child class will no longer inherit the parent's `__init__()` function.\n",
    "- To keep the inheritance of the parent's `__init__()` function, add a call to the parent's `__init__()` function"
   ]
  },
  {
   "cell_type": "code",
   "execution_count": 16,
   "id": "2996e3e1",
   "metadata": {},
   "outputs": [
    {
     "name": "stdout",
     "output_type": "stream",
     "text": [
      "Car Make : BMW X1, Car Color : Black, Car Price : 35000\n",
      "BMW X1 change gear to number 5\n"
     ]
    }
   ],
   "source": [
    "class Car(Vehicle):\n",
    "    \n",
    "    def __init__(self, name, color, price):\n",
    "        Vehicle.__init__(self, name, color, price)\n",
    "        self.name = name\n",
    "        self.color = color\n",
    "        self.price = price\n",
    "\n",
    "    def change_gear(self, no):\n",
    "        print(self.name, 'change gear to number', no)\n",
    "    \n",
    "    def info(self):\n",
    "        print(f\"Car Make : {self.name}, Car Color : {self.color}, Car Price : {self.price}\")\n",
    "\n",
    "# Create object of Car\n",
    "car = Car('BMW X1', 'Black', 35000)\n",
    "\n",
    "# Overriding parent class method\n",
    "car.info()\n",
    "\n",
    "# Accessing child class method\n",
    "car.change_gear(5)"
   ]
  },
  {
   "cell_type": "code",
   "execution_count": 17,
   "id": "24feb211",
   "metadata": {},
   "outputs": [],
   "source": [
    "# Let's see another example\n",
    "\n",
    "## Parent class\n",
    "class Human:\n",
    "    def __init__(self, name):\n",
    "        print(\"Human class created!!\")\n",
    "        self.name = name\n",
    "\n",
    "    def whoAmI(self):\n",
    "        print(\"I'm a Human Being\")\n",
    "\n",
    "    def eat(self):\n",
    "        print(\"I'm Eating inside Human class!\")\n",
    "    \n",
    "    \n",
    "\n",
    "## Child class\n",
    "class Person(Human):\n",
    "    def __init__(self, name):\n",
    "        Human.__init__(self, name)\n",
    "        print(\"Person class created!!\")\n",
    "        self.name = name\n",
    "\n",
    "    def whoAmI(self):\n",
    "        print(\"I'm a Person\")\n",
    "        \n",
    "    def speak(self):\n",
    "        print(f\"My name is {self.name}\")  "
   ]
  },
  {
   "cell_type": "markdown",
   "id": "6f48a155",
   "metadata": {},
   "source": [
    "    Let's create two separate instances of the two classes and see the difference in their behaviours."
   ]
  },
  {
   "cell_type": "code",
   "execution_count": 18,
   "id": "db459c9e",
   "metadata": {},
   "outputs": [
    {
     "name": "stdout",
     "output_type": "stream",
     "text": [
      "Human class created!!\n"
     ]
    }
   ],
   "source": [
    "# Only Human class in invoked while instantiation\n",
    "human_1 = Human(\"Optimus\")"
   ]
  },
  {
   "cell_type": "code",
   "execution_count": 19,
   "id": "66b3b65c",
   "metadata": {},
   "outputs": [
    {
     "name": "stdout",
     "output_type": "stream",
     "text": [
      "Human class created!!\n",
      "Person class created!!\n"
     ]
    }
   ],
   "source": [
    "# Both classes are invoked while instantiation, since it inherits parent class.\n",
    "person_1 = Person(\"Alex\")"
   ]
  },
  {
   "cell_type": "code",
   "execution_count": 20,
   "id": "fd50a004",
   "metadata": {},
   "outputs": [
    {
     "name": "stdout",
     "output_type": "stream",
     "text": [
      "I'm Eating inside Human class!\n",
      "I'm Eating inside Human class!\n"
     ]
    }
   ],
   "source": [
    "# The child class inherits the functionality of the parent class\n",
    "human_1.eat()\n",
    "person_1.eat()"
   ]
  },
  {
   "cell_type": "code",
   "execution_count": 21,
   "id": "bfdea82d",
   "metadata": {},
   "outputs": [
    {
     "name": "stdout",
     "output_type": "stream",
     "text": [
      "I'm a Human Being\n",
      "I'm a Person\n"
     ]
    }
   ],
   "source": [
    "# The child class modifies existing behavior of the parent class\n",
    "human_1.whoAmI() \n",
    "person_1.whoAmI() "
   ]
  },
  {
   "cell_type": "code",
   "execution_count": 22,
   "id": "8ba7d25b",
   "metadata": {},
   "outputs": [
    {
     "name": "stdout",
     "output_type": "stream",
     "text": [
      "My name is Alex\n"
     ]
    }
   ],
   "source": [
    "# Child class extends the functionality of the parent class, by defining a new speak() method\n",
    "person_1.speak()"
   ]
  },
  {
   "cell_type": "markdown",
   "id": "25666f33",
   "metadata": {},
   "source": [
    "### __`Polymorphism`__  \n",
    "\n",
    "- Polymorphism in Python is the ability of an object to take many forms. In simple words, polymorphism allows us to perform the same action in many different ways.\n",
    "\n",
    "- In polymorphism, a method can process objects differently depending on the class type or data type. Let’s see simple examples to understand it better."
   ]
  },
  {
   "cell_type": "code",
   "execution_count": 23,
   "id": "2bc4d26b",
   "metadata": {},
   "outputs": [],
   "source": [
    "# We have two classes Bird and Fish. Each of them have a common fly() & swim() method. \n",
    "# However, their functions are different, here due to nature in programming world could be anything.\n",
    "\n",
    "class Bird:\n",
    "\n",
    "    def fly(self):\n",
    "        print(\"Birds can fly\")\n",
    "    \n",
    "    def swim(self):\n",
    "        print(\"Birds can't swim\")\n",
    "\n",
    "class Fish:\n",
    "\n",
    "    def fly(self):\n",
    "        print(\"Fish can't fly\")\n",
    "    \n",
    "    def swim(self):\n",
    "        print(\"Fish can swim\")\n",
    "\n",
    "\n",
    "# common interface\n",
    "def flying_test(obj):\n",
    "    obj.fly()\n",
    "    \n",
    "def swim_test(obj):\n",
    "    obj.swim()"
   ]
  },
  {
   "cell_type": "code",
   "execution_count": 24,
   "id": "f398d09a",
   "metadata": {},
   "outputs": [],
   "source": [
    "#instantiate objects\n",
    "\n",
    "chuck = Bird()\n",
    "nemo = Fish()"
   ]
  },
  {
   "cell_type": "code",
   "execution_count": 25,
   "id": "2e724570",
   "metadata": {},
   "outputs": [
    {
     "name": "stdout",
     "output_type": "stream",
     "text": [
      "Birds can fly\n",
      "Fish can't fly\n"
     ]
    }
   ],
   "source": [
    "# passing the object\n",
    "\n",
    "flying_test(chuck)\n",
    "flying_test(nemo)"
   ]
  },
  {
   "cell_type": "code",
   "execution_count": 26,
   "id": "5f95c1d9",
   "metadata": {},
   "outputs": [
    {
     "name": "stdout",
     "output_type": "stream",
     "text": [
      "Birds can't swim\n",
      "Fish can swim\n"
     ]
    }
   ],
   "source": [
    "# passing the object\n",
    "\n",
    "swim_test(chuck)\n",
    "swim_test(nemo)"
   ]
  },
  {
   "cell_type": "markdown",
   "id": "86351eb1",
   "metadata": {},
   "source": [
    "__Note :__ \n",
    "\n",
    "__flying_test()__ & __swim_test()__ functions that takes any object and calls the object's __fly()__ & __swim()__ methods respectively thus allowing the same interface for different objects, so programmers can write efficient code --> __`Polymorphism`__"
   ]
  }
 ],
 "metadata": {
  "kernelspec": {
   "display_name": "Python 3 (ipykernel)",
   "language": "python",
   "name": "python3"
  },
  "language_info": {
   "codemirror_mode": {
    "name": "ipython",
    "version": 3
   },
   "file_extension": ".py",
   "mimetype": "text/x-python",
   "name": "python",
   "nbconvert_exporter": "python",
   "pygments_lexer": "ipython3",
   "version": "3.9.13"
  }
 },
 "nbformat": 4,
 "nbformat_minor": 5
}
