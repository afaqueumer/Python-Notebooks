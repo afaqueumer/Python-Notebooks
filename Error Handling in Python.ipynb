{
 "cells": [
  {
   "cell_type": "markdown",
   "id": "30878e1c",
   "metadata": {},
   "source": [
    "### Exception Handling\n",
    "\n",
    "* The __try__ block lets you test a block of code for errors.\n",
    "* The __except__ block lets you handle the error.\n",
    "* The __else__ block lets you execute code when there is no error.\n",
    "* The __finally__ block lets you execute code, regardless of the result of the try- and except blocks.\n",
    "* The __raise__ keyword is used to raise an exception.\n",
    "\n",
    "        try:\n",
    "           You do your operations here...\n",
    "           ...\n",
    "        except ExceptionI:\n",
    "           If there is ExceptionI, then execute this block.\n",
    "        except ExceptionII:\n",
    "           If there is ExceptionII, then execute this block.\n",
    "           ...\n",
    "        else:\n",
    "           If there is no exception then execute this block. "
   ]
  },
  {
   "cell_type": "markdown",
   "id": "107a61b0",
   "metadata": {},
   "source": [
    "__Note:__ With except we are open for any exception."
   ]
  },
  {
   "cell_type": "markdown",
   "id": "7c8adc52",
   "metadata": {},
   "source": [
    "### try - except "
   ]
  },
  {
   "cell_type": "code",
   "execution_count": 1,
   "id": "3a824946",
   "metadata": {},
   "outputs": [
    {
     "name": "stdout",
     "output_type": "stream",
     "text": [
      "An error occurred!\n"
     ]
    }
   ],
   "source": [
    "#The try block will generate an exception, because arithmatic operations can't be performed on characters.\n",
    "try:\n",
    "    for i in ['a','b','c']:\n",
    "        print(i**2)\n",
    "except:\n",
    "    print(\"An error occurred!\")"
   ]
  },
  {
   "cell_type": "code",
   "execution_count": 2,
   "id": "bc8e1618",
   "metadata": {},
   "outputs": [
    {
     "name": "stdout",
     "output_type": "stream",
     "text": [
      "unsupported operand type(s) for ** or pow(): 'str' and 'int'\n"
     ]
    }
   ],
   "source": [
    "#The try block will generate an exception, because arithmatic operations can't be performed on characters.\n",
    "try:\n",
    "    for i in ['a','b','c']:\n",
    "        print(i**2)\n",
    "except Exception as e:\n",
    "    print(e)"
   ]
  },
  {
   "cell_type": "code",
   "execution_count": 3,
   "id": "6514919f",
   "metadata": {},
   "outputs": [
    {
     "name": "stdout",
     "output_type": "stream",
     "text": [
      "An exception occurred\n"
     ]
    }
   ],
   "source": [
    "#The try block will generate an exception, because x is not defined\n",
    "try:\n",
    "    print(x)\n",
    "except:\n",
    "    print(\"An exception occurred\")"
   ]
  },
  {
   "cell_type": "markdown",
   "id": "5ee0d2c4",
   "metadata": {},
   "source": [
    "### try - except - else"
   ]
  },
  {
   "cell_type": "code",
   "execution_count": 4,
   "id": "9a6e2435",
   "metadata": {},
   "outputs": [
    {
     "name": "stdout",
     "output_type": "stream",
     "text": [
      "This is try block !\n",
      "This is else block, With No exception this block will execute !!\n"
     ]
    }
   ],
   "source": [
    "try:\n",
    "    print(\"This is try block !\")\n",
    "except:\n",
    "    print(\"-- Something went wrong --\")\n",
    "else:\n",
    "    print(\"This is else block, With No exception this block will execute !!\")"
   ]
  },
  {
   "cell_type": "code",
   "execution_count": 5,
   "id": "75a14d87",
   "metadata": {},
   "outputs": [
    {
     "name": "stdout",
     "output_type": "stream",
     "text": [
      "This is try block !\n",
      "-- Something went wrong --\n"
     ]
    }
   ],
   "source": [
    "try:\n",
    "    print(\"This is try block !\")\n",
    "    print(x)\n",
    "except:\n",
    "    print(\"-- Something went wrong --\")\n",
    "else:\n",
    "    print(\"This is else block, With No exception this block will execute !!\")"
   ]
  },
  {
   "cell_type": "markdown",
   "id": "860ef314",
   "metadata": {},
   "source": [
    "### try - except - else - finally"
   ]
  },
  {
   "cell_type": "code",
   "execution_count": 6,
   "id": "2827b654",
   "metadata": {},
   "outputs": [
    {
     "name": "stdout",
     "output_type": "stream",
     "text": [
      "This is try block !\n",
      "This is else block, With No exception this block will execute !!\n",
      "Finally, I will always execute !\n"
     ]
    }
   ],
   "source": [
    "try:\n",
    "    print(\"This is try block !\")\n",
    "except:\n",
    "    print(\"-- Something went wrong --\")\n",
    "else:\n",
    "    print(\"This is else block, With No exception this block will execute !!\")\n",
    "finally:\n",
    "    print(\"Finally, I will always execute !\")"
   ]
  },
  {
   "cell_type": "code",
   "execution_count": 7,
   "id": "79aa9426",
   "metadata": {},
   "outputs": [
    {
     "name": "stdout",
     "output_type": "stream",
     "text": [
      "This is try block !\n",
      "-- Something went wrong --\n",
      "Finally, I will always execute !\n"
     ]
    }
   ],
   "source": [
    "try:\n",
    "    print(\"This is try block !\")\n",
    "    print(x)\n",
    "except:\n",
    "    print(\"-- Something went wrong --\")\n",
    "else:\n",
    "    print(\"This is else block, With No exception this block will execute !!\")\n",
    "finally:\n",
    "    print(\"Finally, I will always execute !\")"
   ]
  },
  {
   "cell_type": "markdown",
   "id": "254a3407",
   "metadata": {},
   "source": [
    "### raise exception"
   ]
  },
  {
   "cell_type": "code",
   "execution_count": 8,
   "id": "59e9ad28",
   "metadata": {},
   "outputs": [
    {
     "name": "stdout",
     "output_type": "stream",
     "text": [
      "This is try block !\n",
      "Sorry, no numbers below zero\n"
     ]
    }
   ],
   "source": [
    "# you can choose to throw an exception if a condition occurs using raise.\n",
    "\n",
    "x = -1\n",
    "\n",
    "try:\n",
    "    print(\"This is try block !\")\n",
    "    if x < 0:\n",
    "        raise Exception(\"Sorry, no numbers below zero\")\n",
    "\n",
    "except Exception as e:\n",
    "    print(e)"
   ]
  }
 ],
 "metadata": {
  "kernelspec": {
   "display_name": "Python 3 (ipykernel)",
   "language": "python",
   "name": "python3"
  },
  "language_info": {
   "codemirror_mode": {
    "name": "ipython",
    "version": 3
   },
   "file_extension": ".py",
   "mimetype": "text/x-python",
   "name": "python",
   "nbconvert_exporter": "python",
   "pygments_lexer": "ipython3",
   "version": "3.9.13"
  }
 },
 "nbformat": 4,
 "nbformat_minor": 5
}
