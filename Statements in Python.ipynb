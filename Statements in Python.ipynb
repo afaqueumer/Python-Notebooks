{
 "cells": [
  {
   "cell_type": "markdown",
   "id": "fa2d0f8f",
   "metadata": {},
   "source": [
    "## if -  elif - else\n",
    "\n",
    "Control flow in python using logical conditions from mathematics.\n",
    "\n",
    "- Equals: a == b\n",
    "- Not Equals: a != b\n",
    "- Less than: a < b\n",
    "- Less than or equal to: a <= b\n",
    "- Greater than: a > b\n",
    "- Greater than or equal to: a >= b"
   ]
  },
  {
   "cell_type": "markdown",
   "id": "18677642",
   "metadata": {},
   "source": [
    "## if\n",
    "The if keyword is pythons way of saying \"if this condition is true, then execute this block\"."
   ]
  },
  {
   "cell_type": "code",
   "execution_count": 1,
   "id": "7707123a",
   "metadata": {},
   "outputs": [
    {
     "name": "stdout",
     "output_type": "stream",
     "text": [
      " Condition is True\n"
     ]
    }
   ],
   "source": [
    "condition = True\n",
    "\n",
    "if condition:\n",
    "    print(\" Condition is True\")"
   ]
  },
  {
   "cell_type": "code",
   "execution_count": 2,
   "id": "24664c4c",
   "metadata": {},
   "outputs": [],
   "source": [
    "condition = False\n",
    "\n",
    "if condition:\n",
    "    print(\"This won't be executed\")"
   ]
  },
  {
   "cell_type": "code",
   "execution_count": 3,
   "id": "30b0f74f",
   "metadata": {},
   "outputs": [
    {
     "name": "stdout",
     "output_type": "stream",
     "text": [
      "b is greater than a\n"
     ]
    }
   ],
   "source": [
    "a = 10\n",
    "b = 20\n",
    "if b > a:\n",
    "    print(\"b is greater than a\")"
   ]
  },
  {
   "cell_type": "markdown",
   "id": "e60cdd1f",
   "metadata": {},
   "source": [
    "## elif\n",
    "\n",
    "The elif keyword is pythons way of saying \"if the previous conditions were not true, then try this condition\"."
   ]
  },
  {
   "cell_type": "code",
   "execution_count": 4,
   "id": "b3931160",
   "metadata": {},
   "outputs": [
    {
     "name": "stdout",
     "output_type": "stream",
     "text": [
      "a and b are equal\n"
     ]
    }
   ],
   "source": [
    "a = 10\n",
    "b = 10\n",
    "if b > a:\n",
    "    print(\"b is greater than a\")\n",
    "elif a == b:\n",
    "    print(\"a and b are equal\")"
   ]
  },
  {
   "cell_type": "markdown",
   "id": "76129394",
   "metadata": {},
   "source": [
    "## else\n",
    "\n",
    "The else keyword catches anything which isn't caught by the preceding conditions."
   ]
  },
  {
   "cell_type": "code",
   "execution_count": 5,
   "id": "02b2b34a",
   "metadata": {},
   "outputs": [
    {
     "name": "stdout",
     "output_type": "stream",
     "text": [
      "This will be executed since previous condition was false!\n"
     ]
    }
   ],
   "source": [
    "condition = False\n",
    "\n",
    "if condition:\n",
    "    print(\"This won't be executed\")\n",
    "else:\n",
    "    print(\"This will be executed since previous condition was false!\")"
   ]
  },
  {
   "cell_type": "code",
   "execution_count": 6,
   "id": "20894ed3",
   "metadata": {},
   "outputs": [
    {
     "name": "stdout",
     "output_type": "stream",
     "text": [
      "b is greater than a\n"
     ]
    }
   ],
   "source": [
    "a = 10\n",
    "b = 20\n",
    "\n",
    "if a > b:\n",
    "    print(\"a is greater than b\")\n",
    "elif a == b:\n",
    "    print(\"a and b are equal\")\n",
    "else:\n",
    "    print(\"b is greater than a\")"
   ]
  },
  {
   "cell_type": "markdown",
   "id": "ab58b61a",
   "metadata": {},
   "source": [
    "### Short Hand if\n",
    "\n",
    "If you have only one statement to execute, you can put it on the same line as the if statement."
   ]
  },
  {
   "cell_type": "code",
   "execution_count": 7,
   "id": "4edb6082",
   "metadata": {},
   "outputs": [
    {
     "name": "stdout",
     "output_type": "stream",
     "text": [
      "This is True\n"
     ]
    }
   ],
   "source": [
    "condition = True\n",
    "\n",
    "if True: print(\"This is True\")"
   ]
  },
  {
   "cell_type": "markdown",
   "id": "e73f7a1d",
   "metadata": {},
   "source": [
    "### Short Hand if-else\n",
    "\n",
    "If you have only one statement to execute, one for if, and one for else, you can put it all on the same line:"
   ]
  },
  {
   "cell_type": "code",
   "execution_count": 8,
   "id": "67a3b9f1",
   "metadata": {},
   "outputs": [
    {
     "name": "stdout",
     "output_type": "stream",
     "text": [
      "b is greater!\n"
     ]
    }
   ],
   "source": [
    "a = 10\n",
    "b = 20\n",
    "print(\"a is greater!\") if a > b else print(\"b is greater!\")"
   ]
  },
  {
   "cell_type": "code",
   "execution_count": 9,
   "id": "42db679d",
   "metadata": {},
   "outputs": [
    {
     "name": "stdout",
     "output_type": "stream",
     "text": [
      "a is greater than b\n"
     ]
    }
   ],
   "source": [
    "# One line if else statement, with 3 conditions\n",
    "\n",
    "a = 20\n",
    "b = 10\n",
    "\n",
    "print(\"a is greater than b\") if a > b else print(\"=\") if a == b else print(\"b is greater than a\")"
   ]
  },
  {
   "cell_type": "code",
   "execution_count": 10,
   "id": "4d214e93",
   "metadata": {},
   "outputs": [
    {
     "name": "stdout",
     "output_type": "stream",
     "text": [
      "a is equal to b\n"
     ]
    }
   ],
   "source": [
    "a = 10\n",
    "b = 10\n",
    "\n",
    "print(\"a is greater than b\") if a > b else print(\"a is equal to b\") if a == b else print(\"b is greater than a\")"
   ]
  },
  {
   "cell_type": "code",
   "execution_count": 11,
   "id": "e420557a",
   "metadata": {},
   "outputs": [
    {
     "name": "stdout",
     "output_type": "stream",
     "text": [
      "b is greater than a\n"
     ]
    }
   ],
   "source": [
    "a = 20\n",
    "b = 30\n",
    "\n",
    "print(\"a is greater than b\") if a > b else print(\"a is equal to b\") if a == b else print(\"b is greater than a\")"
   ]
  },
  {
   "cell_type": "markdown",
   "id": "e758bde8",
   "metadata": {},
   "source": [
    "## for Loops"
   ]
  },
  {
   "cell_type": "markdown",
   "id": "3d8e0a30",
   "metadata": {},
   "source": [
    "- \"iterable\" --> one can iterate over the object.\n",
    "-  A for loop is used for iterating over a sequence (that is either a list, a tuple, a dictionary, a set, or a string).\n",
    "\n",
    "- With the for loop we can execute a set of statements, once for each item in a list, tuple, set etc."
   ]
  },
  {
   "cell_type": "code",
   "execution_count": 12,
   "id": "6701975c",
   "metadata": {},
   "outputs": [
    {
     "name": "stdout",
     "output_type": "stream",
     "text": [
      "1\n",
      "2\n",
      "3\n",
      "4\n",
      "5\n",
      "6\n",
      "7\n",
      "8\n",
      "9\n",
      "10\n"
     ]
    }
   ],
   "source": [
    "variable =  [1,2,3,4,5,6,7,8,9,10]\n",
    "\n",
    "for i in variable:\n",
    "    print(i)"
   ]
  },
  {
   "cell_type": "code",
   "execution_count": 13,
   "id": "96318a8d",
   "metadata": {
    "scrolled": true
   },
   "outputs": [
    {
     "name": "stdout",
     "output_type": "stream",
     "text": [
      "A\n",
      " \n",
      "S\n",
      "t\n",
      "r\n",
      "i\n",
      "n\n",
      "g\n",
      ".\n"
     ]
    }
   ],
   "source": [
    "# Even strings are iterable objects, they contain a sequence of characters:\n",
    "\n",
    "s = \"A String.\"\n",
    "for i in s:\n",
    "    print(i)"
   ]
  },
  {
   "cell_type": "markdown",
   "id": "38507d40",
   "metadata": {},
   "source": [
    "__Break__"
   ]
  },
  {
   "cell_type": "code",
   "execution_count": 14,
   "id": "00ea109f",
   "metadata": {
    "scrolled": true
   },
   "outputs": [
    {
     "name": "stdout",
     "output_type": "stream",
     "text": [
      "1\n",
      "2\n",
      "3\n",
      "4\n",
      "\n",
      "\n",
      "1\n",
      "2\n",
      "3\n",
      "4\n",
      "5\n"
     ]
    }
   ],
   "source": [
    "# With the break statement we can stop the loop before it has looped through all the items.\n",
    "\n",
    "for i in variable:\n",
    "    if i == 5:\n",
    "        break\n",
    "    print(i)\n",
    "    \n",
    "print(\"\\n\")\n",
    "    \n",
    "for i in variable:\n",
    "    print(i)\n",
    "    if i == 5:\n",
    "        break"
   ]
  },
  {
   "cell_type": "markdown",
   "id": "0b7fd6eb",
   "metadata": {},
   "source": [
    "__Continue__"
   ]
  },
  {
   "cell_type": "code",
   "execution_count": 15,
   "id": "79e76dca",
   "metadata": {
    "scrolled": false
   },
   "outputs": [
    {
     "name": "stdout",
     "output_type": "stream",
     "text": [
      "1\n",
      "2\n",
      "3\n",
      "4\n",
      "6\n",
      "7\n",
      "8\n",
      "9\n",
      "10\n"
     ]
    }
   ],
   "source": [
    "# With the continue statement we can stop the current iteration of the loop, and continue with the next.\n",
    "\n",
    "for i in variable:\n",
    "    if i == 5:\n",
    "        continue\n",
    "    print(i)"
   ]
  },
  {
   "cell_type": "markdown",
   "id": "1732057f",
   "metadata": {},
   "source": [
    "__Range__"
   ]
  },
  {
   "cell_type": "code",
   "execution_count": 16,
   "id": "364efbe0",
   "metadata": {},
   "outputs": [
    {
     "name": "stdout",
     "output_type": "stream",
     "text": [
      "0\n",
      "1\n",
      "2\n",
      "3\n",
      "4\n",
      "\n",
      "5\n",
      "6\n",
      "7\n",
      "8\n",
      "9\n",
      "10\n"
     ]
    }
   ],
   "source": [
    "# range() - returns a sequence of numbers, starting from 0 by default, and increments by 1 (by default), and ends at a specified number.\n",
    "\n",
    "for i in range(5):\n",
    "    print(i)\n",
    "    \n",
    "print()\n",
    "\n",
    "for i in range(5,11):\n",
    "    print(i)"
   ]
  },
  {
   "cell_type": "code",
   "execution_count": 17,
   "id": "766949c8",
   "metadata": {},
   "outputs": [
    {
     "name": "stdout",
     "output_type": "stream",
     "text": [
      "(1, 2)\n",
      "(3, 4)\n",
      "(5, 6)\n"
     ]
    }
   ],
   "source": [
    "l1 = [(1,2),(3,4),(5,6)]\n",
    "\n",
    "for item in l1:\n",
    "    print(item)"
   ]
  },
  {
   "cell_type": "markdown",
   "id": "effcaac5",
   "metadata": {},
   "source": [
    "__Unpacking__"
   ]
  },
  {
   "cell_type": "code",
   "execution_count": 18,
   "id": "6c474b48",
   "metadata": {},
   "outputs": [
    {
     "name": "stdout",
     "output_type": "stream",
     "text": [
      "1\n",
      "3\n",
      "5\n",
      "\n",
      "2\n",
      "4\n",
      "6\n"
     ]
    }
   ],
   "source": [
    "# tuple unpacking\n",
    "\n",
    "for a,b in l1:\n",
    "    print(a)\n",
    "    \n",
    "print()\n",
    "    \n",
    "for a,b in l1:\n",
    "    print(b)"
   ]
  },
  {
   "cell_type": "code",
   "execution_count": 19,
   "id": "047c2636",
   "metadata": {},
   "outputs": [
    {
     "name": "stdout",
     "output_type": "stream",
     "text": [
      "(1, 2, 3)\n",
      "(4, 5, 6)\n",
      "(7, 8, 9)\n",
      "\n",
      "1 2 3\n",
      "4 5 6\n",
      "7 8 9\n",
      "\n",
      "1\n",
      "4\n",
      "7\n"
     ]
    }
   ],
   "source": [
    "l2 = [(1,2,3),(4,5,6),(7,8,9)]\n",
    "\n",
    "#only items i.e tuples\n",
    "for tup in l2:\n",
    "    print(tup)\n",
    "    \n",
    "print()\n",
    "    \n",
    "    \n",
    "#tuple unpacking\n",
    "for a,b,c in l2:\n",
    "    print(a,b,c)\n",
    "    \n",
    "print()\n",
    "\n",
    "#tuple unpacking - selective access\n",
    "for a,b,c in l2:\n",
    "    print(a)"
   ]
  },
  {
   "cell_type": "code",
   "execution_count": 20,
   "id": "85fc80f7",
   "metadata": {},
   "outputs": [
    {
     "name": "stdout",
     "output_type": "stream",
     "text": [
      "dict_keys(['a', 'b', 'c'])\n",
      "dict_values([1, 2, 3])\n",
      "dict_items([('a', 1), ('b', 2), ('c', 3)])\n"
     ]
    }
   ],
   "source": [
    "d1 = {\"a\" : 1, \"b\":2 , \"c\":3}\n",
    "\n",
    "print(d1.keys())\n",
    "\n",
    "print(d1.values())\n",
    "\n",
    "print(d1.items())"
   ]
  },
  {
   "cell_type": "code",
   "execution_count": 21,
   "id": "ddea4944",
   "metadata": {},
   "outputs": [
    {
     "name": "stdout",
     "output_type": "stream",
     "text": [
      "dict_keys([1, 2, 3])\n",
      "dict_values(['a', 'b', 'c'])\n",
      "dict_items([(1, 'a'), (2, 'b'), (3, 'c')])\n"
     ]
    }
   ],
   "source": [
    "d2 = {1 : \"a\", 2:\"b\" , 3:\"c\"}\n",
    "\n",
    "print(d2.keys())\n",
    "\n",
    "print(d2.values())\n",
    "\n",
    "print(d2.items())"
   ]
  },
  {
   "cell_type": "code",
   "execution_count": 22,
   "id": "7e414e0d",
   "metadata": {},
   "outputs": [
    {
     "name": "stdout",
     "output_type": "stream",
     "text": [
      "a\n",
      "b\n",
      "c\n"
     ]
    }
   ],
   "source": [
    "# dictionary iterating\n",
    "\n",
    "for i in d1.keys():\n",
    "    print(i)"
   ]
  },
  {
   "cell_type": "code",
   "execution_count": 23,
   "id": "33d2f98b",
   "metadata": {},
   "outputs": [
    {
     "name": "stdout",
     "output_type": "stream",
     "text": [
      "key = a , value = 1\n",
      "key = b , value = 2\n",
      "key = c , value = 3\n"
     ]
    }
   ],
   "source": [
    "#dictionary unpacking\n",
    "\n",
    "for i,j in d1.items():\n",
    "    print(f\"key = {i} , value = {j}\")"
   ]
  },
  {
   "cell_type": "code",
   "execution_count": 24,
   "id": "31d4e878",
   "metadata": {},
   "outputs": [
    {
     "name": "stdout",
     "output_type": "stream",
     "text": [
      "key = 1 , value = a\n",
      "key = 2 , value = b\n",
      "key = 3 , value = c\n"
     ]
    }
   ],
   "source": [
    "#dictionary unpacking\n",
    "\n",
    "for i,j in d2.items():\n",
    "    print(f\"key = {i} , value = {j}\")"
   ]
  },
  {
   "cell_type": "markdown",
   "id": "92a27f5c",
   "metadata": {},
   "source": [
    "## while Loops\n",
    "\n",
    "- With the while loop we can execute a set of statements as long as a condition is true."
   ]
  },
  {
   "cell_type": "code",
   "execution_count": 25,
   "id": "d69b769a",
   "metadata": {},
   "outputs": [
    {
     "name": "stdout",
     "output_type": "stream",
     "text": [
      "Current value of i is = 0\n",
      "Current value of i is = 1\n",
      "Current value of i is = 2\n",
      "Current value of i is = 3\n",
      "Current value of i is = 4\n",
      "Current value of i is = 5\n"
     ]
    }
   ],
   "source": [
    "i = 0\n",
    "while i < 6:\n",
    "    print(f\"Current value of i is = {i}\")\n",
    "    i+=1   "
   ]
  },
  {
   "cell_type": "markdown",
   "id": "dcf92968",
   "metadata": {},
   "source": [
    "##### Note: \n",
    "\n",
    "- break: Breaks out of the current closest enclosing loop.\n",
    "- continue: Goes to the top of the closest enclosing loop.\n",
    "- pass: Does nothing at all."
   ]
  },
  {
   "cell_type": "code",
   "execution_count": 26,
   "id": "fd5d7373",
   "metadata": {},
   "outputs": [],
   "source": [
    "for i in l1:\n",
    "    # when you have nothing to do\n",
    "    pass"
   ]
  },
  {
   "cell_type": "markdown",
   "id": "9c687ff0",
   "metadata": {},
   "source": [
    "### Some useful operators"
   ]
  },
  {
   "cell_type": "markdown",
   "id": "9c6f5a8e",
   "metadata": {},
   "source": [
    "###  enumerate"
   ]
  },
  {
   "cell_type": "code",
   "execution_count": 27,
   "id": "75ec168b",
   "metadata": {},
   "outputs": [
    {
     "name": "stdout",
     "output_type": "stream",
     "text": [
      "(0, 'E')\n",
      "(1, 'N')\n",
      "(2, 'U')\n",
      "(3, 'M')\n",
      "(4, 'E')\n",
      "(5, 'R')\n",
      "(6, 'A')\n",
      "(7, 'T')\n",
      "(8, 'E')\n"
     ]
    }
   ],
   "source": [
    "# Gives the index - value pair as tuples\n",
    "\n",
    "s = \"ENUMERATE\"\n",
    "for i in enumerate(s):\n",
    "    print(i)   "
   ]
  },
  {
   "cell_type": "markdown",
   "id": "884bf20d",
   "metadata": {},
   "source": [
    "###  zip\n",
    "\n",
    "- The zip() function returns a zip object, which is an iterator of tuples where the first item in each passed iterator is paired together, and then the second item in each passed iterator are paired together etc.\n",
    "\n",
    "- If the passed iterators have different lengths, the iterator with the least items decides the length of the new iterator."
   ]
  },
  {
   "cell_type": "code",
   "execution_count": 28,
   "id": "f2498540",
   "metadata": {},
   "outputs": [
    {
     "name": "stdout",
     "output_type": "stream",
     "text": [
      "(1, 'a')\n",
      "(2, 'b')\n",
      "(3, 'c')\n",
      "(4, 'd')\n",
      "(5, 'e')\n"
     ]
    }
   ],
   "source": [
    "l1 = [1,2,3,4,5]\n",
    "l2 = ['a','b','c','d','e']\n",
    "\n",
    "for i in zip(l1,l2):\n",
    "    print(i)"
   ]
  },
  {
   "cell_type": "code",
   "execution_count": 29,
   "id": "a309a23a",
   "metadata": {},
   "outputs": [
    {
     "name": "stdout",
     "output_type": "stream",
     "text": [
      "(1, 'a', 11)\n",
      "(2, 'b', 12)\n",
      "(3, 'c', 13)\n"
     ]
    }
   ],
   "source": [
    "l1 = [1,2,3,4,5,6,7,8,9]\n",
    "l2 = ['a','b','c','d','e','f','g','h']\n",
    "l3 = (11,12,13)\n",
    "\n",
    "for i in zip(l1,l2,l3):\n",
    "    print(i)"
   ]
  },
  {
   "cell_type": "code",
   "execution_count": 30,
   "id": "e6008e70",
   "metadata": {},
   "outputs": [
    {
     "data": {
      "text/plain": [
       "[(1, 'a', 11), (2, 'b', 12), (3, 'c', 13)]"
      ]
     },
     "execution_count": 30,
     "metadata": {},
     "output_type": "execute_result"
    }
   ],
   "source": [
    "list(zip(l1,l2,l3))"
   ]
  },
  {
   "cell_type": "markdown",
   "id": "60af56cb",
   "metadata": {},
   "source": [
    "### in"
   ]
  },
  {
   "cell_type": "code",
   "execution_count": 31,
   "id": "7f73dba9",
   "metadata": {},
   "outputs": [
    {
     "data": {
      "text/plain": [
       "True"
      ]
     },
     "execution_count": 31,
     "metadata": {},
     "output_type": "execute_result"
    }
   ],
   "source": [
    "'y' in \"python\""
   ]
  },
  {
   "cell_type": "code",
   "execution_count": 32,
   "id": "1d06cb05",
   "metadata": {},
   "outputs": [
    {
     "data": {
      "text/plain": [
       "{1: 'a', 2: 'b', 3: 'c'}"
      ]
     },
     "execution_count": 32,
     "metadata": {},
     "output_type": "execute_result"
    }
   ],
   "source": [
    "d = {1:'a', 2:'b', 3:'c'}\n",
    "d"
   ]
  },
  {
   "cell_type": "code",
   "execution_count": 33,
   "id": "e8246998",
   "metadata": {},
   "outputs": [
    {
     "data": {
      "text/plain": [
       "True"
      ]
     },
     "execution_count": 33,
     "metadata": {},
     "output_type": "execute_result"
    }
   ],
   "source": [
    "2 in d"
   ]
  },
  {
   "cell_type": "code",
   "execution_count": 34,
   "id": "ef4bd3f8",
   "metadata": {},
   "outputs": [
    {
     "data": {
      "text/plain": [
       "False"
      ]
     },
     "execution_count": 34,
     "metadata": {},
     "output_type": "execute_result"
    }
   ],
   "source": [
    "'b' in d"
   ]
  },
  {
   "cell_type": "code",
   "execution_count": 35,
   "id": "35003aa4",
   "metadata": {},
   "outputs": [
    {
     "data": {
      "text/plain": [
       "True"
      ]
     },
     "execution_count": 35,
     "metadata": {},
     "output_type": "execute_result"
    }
   ],
   "source": [
    "'b' in d.values()"
   ]
  },
  {
   "cell_type": "code",
   "execution_count": 36,
   "id": "5edac0b8",
   "metadata": {},
   "outputs": [
    {
     "data": {
      "text/plain": [
       "True"
      ]
     },
     "execution_count": 36,
     "metadata": {},
     "output_type": "execute_result"
    }
   ],
   "source": [
    "2 in d.keys()"
   ]
  },
  {
   "cell_type": "markdown",
   "id": "3fdf499e",
   "metadata": {},
   "source": [
    "### shuffle"
   ]
  },
  {
   "cell_type": "code",
   "execution_count": 37,
   "id": "92e076a1",
   "metadata": {},
   "outputs": [],
   "source": [
    "from random import shuffle"
   ]
  },
  {
   "cell_type": "code",
   "execution_count": 38,
   "id": "942bbdef",
   "metadata": {},
   "outputs": [
    {
     "name": "stdout",
     "output_type": "stream",
     "text": [
      "Before shuffle --> [1, 2, 3, 4, 5, 6, 7, 8, 9, 10]\n",
      "After shuffle --> [9, 4, 5, 6, 7, 10, 3, 8, 2, 1]\n"
     ]
    }
   ],
   "source": [
    "# shuffles the elements\n",
    "\n",
    "l1 = [1,2,3,4,5,6,7,8,9,10]\n",
    "\n",
    "print(f\"Before shuffle --> {l1}\")\n",
    "\n",
    "shuffle(l1)\n",
    "\n",
    "print(f\"After shuffle --> {l1}\")"
   ]
  },
  {
   "cell_type": "markdown",
   "id": "fe40a911",
   "metadata": {},
   "source": [
    "### randint"
   ]
  },
  {
   "cell_type": "code",
   "execution_count": 39,
   "id": "ee585397",
   "metadata": {},
   "outputs": [],
   "source": [
    "from random import randint"
   ]
  },
  {
   "cell_type": "code",
   "execution_count": 40,
   "id": "fb9e49b7",
   "metadata": {},
   "outputs": [
    {
     "data": {
      "text/plain": [
       "22"
      ]
     },
     "execution_count": 40,
     "metadata": {},
     "output_type": "execute_result"
    }
   ],
   "source": [
    "randint(10,40)"
   ]
  }
 ],
 "metadata": {
  "kernelspec": {
   "display_name": "Python 3 (ipykernel)",
   "language": "python",
   "name": "python3"
  },
  "language_info": {
   "codemirror_mode": {
    "name": "ipython",
    "version": 3
   },
   "file_extension": ".py",
   "mimetype": "text/x-python",
   "name": "python",
   "nbconvert_exporter": "python",
   "pygments_lexer": "ipython3",
   "version": "3.9.13"
  }
 },
 "nbformat": 4,
 "nbformat_minor": 5
}
