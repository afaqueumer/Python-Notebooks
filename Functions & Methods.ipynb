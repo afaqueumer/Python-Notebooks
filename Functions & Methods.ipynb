{
 "cells": [
  {
   "cell_type": "markdown",
   "id": "6f0b529b",
   "metadata": {},
   "source": [
    "# Functions & Methods "
   ]
  },
  {
   "cell_type": "markdown",
   "id": "87ff42fd",
   "metadata": {},
   "source": [
    "#### When/Why Functions?\n",
    "\n",
    "* When you want to use a block of code multiple times. __DRY__ - Do Not Repeat Yourself.\n",
    "* It only runs when it is called.\n",
    "* Building blocks of OOP.\n",
    "* Allows parameters/arguments that can serve as inputs to the functions.\n",
    "\n",
    "`def` is short for define. This is used for creating a function."
   ]
  },
  {
   "cell_type": "code",
   "execution_count": 1,
   "id": "8e8d3079",
   "metadata": {},
   "outputs": [],
   "source": [
    "#syntax of creating a function in Python\n",
    "def name_of_function():\n",
    "    '''\n",
    "    This is where the function's Document String (docstring) goes.\n",
    "    When you call help() on your function it will be printed out.\n",
    "    '''\n",
    "    # Write statements here\n",
    "    # Return something\n",
    "    \n",
    "#To call a function, use the function name followed by parenthesis\n",
    "name_of_function()"
   ]
  },
  {
   "cell_type": "markdown",
   "id": "4d75dcd4",
   "metadata": {},
   "source": [
    "__NOTE__: We can't define a function with the same name as a built-in function name in Python. \n",
    "        See here - https://docs.python.org/3/library/functions.html "
   ]
  },
  {
   "cell_type": "markdown",
   "id": "93a6d7dd",
   "metadata": {},
   "source": [
    "#### A basic function without return\n",
    "\n",
    "These functions simply perform the operations written in statements, but doesn't save the result."
   ]
  },
  {
   "cell_type": "code",
   "execution_count": 2,
   "id": "efbcdd94",
   "metadata": {},
   "outputs": [],
   "source": [
    "#defining a function\n",
    "def greet():\n",
    "    print(\"Hello there 👋\")"
   ]
  },
  {
   "cell_type": "code",
   "execution_count": 3,
   "id": "481d1ba9",
   "metadata": {},
   "outputs": [
    {
     "name": "stdout",
     "output_type": "stream",
     "text": [
      "Hello there 👋\n"
     ]
    }
   ],
   "source": [
    "#calling the function\n",
    "greet()"
   ]
  },
  {
   "cell_type": "code",
   "execution_count": 4,
   "id": "e5f0adc6",
   "metadata": {},
   "outputs": [
    {
     "name": "stdout",
     "output_type": "stream",
     "text": [
      "Hello there 👋\n",
      "Hello there 👋\n",
      "Hello there 👋\n"
     ]
    }
   ],
   "source": [
    "#we can call multiple times a function\n",
    "for i in range(3):\n",
    "    greet()"
   ]
  },
  {
   "cell_type": "markdown",
   "id": "bf174af2",
   "metadata": {},
   "source": [
    "#### Parameters vs Arguments\n",
    "\n",
    "Both these things are something that we pass in the --> __()__ when we wither define or call the function.\n",
    "\n",
    "__`Parameters`__ - What we define when we create the function.\n",
    "\n",
    "__`Arguments`__ - What we define when we call the function."
   ]
  },
  {
   "cell_type": "code",
   "execution_count": 5,
   "id": "7c08de81",
   "metadata": {},
   "outputs": [],
   "source": [
    "# Here name inside () is parameter\n",
    "def new_greet(name):\n",
    "    print(f'Hello {name} 🤖')"
   ]
  },
  {
   "cell_type": "code",
   "execution_count": 6,
   "id": "d8bdf77a",
   "metadata": {},
   "outputs": [
    {
     "name": "stdout",
     "output_type": "stream",
     "text": [
      "Hello Optimus 🤖\n"
     ]
    }
   ],
   "source": [
    "#Here the value \"Optimus\" is argument\n",
    "new_greet(\"Optimus\")"
   ]
  },
  {
   "cell_type": "markdown",
   "id": "de51ae60",
   "metadata": {},
   "source": [
    "__Note__ : \n",
    "\n",
    "    A function must be called with the correct number of arguments, Meaning that if your function expects n arguments, you have to call the function with n arguments, nothing more nothing less!!\""
   ]
  },
  {
   "cell_type": "markdown",
   "id": "37a0611f",
   "metadata": {},
   "source": [
    "#### A basic function with return\n",
    "`return`allows a function to return a result that can then be stored as a variable, or used in whatever manner a user wants."
   ]
  },
  {
   "cell_type": "code",
   "execution_count": 7,
   "id": "8117adc0",
   "metadata": {},
   "outputs": [],
   "source": [
    "def sum_of_two(num1,num2):\n",
    "    return num1+num2"
   ]
  },
  {
   "cell_type": "code",
   "execution_count": 8,
   "id": "d4fd91f0",
   "metadata": {},
   "outputs": [
    {
     "name": "stdout",
     "output_type": "stream",
     "text": [
      "10\n"
     ]
    }
   ],
   "source": [
    "# since sum_of_two is having return, we can store the output of this in some variable.\n",
    "result = sum_of_two(5,5) #this will return 10\n",
    "print(result)"
   ]
  },
  {
   "cell_type": "markdown",
   "id": "65826cef",
   "metadata": {},
   "source": [
    "#### Returning multiple values"
   ]
  },
  {
   "cell_type": "code",
   "execution_count": 9,
   "id": "5d3c0713",
   "metadata": {},
   "outputs": [],
   "source": [
    "def square_cube(n):\n",
    "    '''\n",
    "    This function returns square and cube of a number in respective order.\n",
    "    '''\n",
    "    s = n**2\n",
    "    c = n**3\n",
    "    return s,c    "
   ]
  },
  {
   "cell_type": "code",
   "execution_count": 10,
   "id": "b80d6288",
   "metadata": {},
   "outputs": [
    {
     "data": {
      "text/plain": [
       "(25, 125)"
      ]
     },
     "execution_count": 10,
     "metadata": {},
     "output_type": "execute_result"
    }
   ],
   "source": [
    "square_cube(5)"
   ]
  },
  {
   "cell_type": "code",
   "execution_count": 11,
   "id": "039d9f60",
   "metadata": {},
   "outputs": [
    {
     "name": "stdout",
     "output_type": "stream",
     "text": [
      "<class 'tuple'>\n"
     ]
    }
   ],
   "source": [
    "result = square_cube(5)\n",
    "print(type(result))"
   ]
  },
  {
   "cell_type": "code",
   "execution_count": 12,
   "id": "9172814c",
   "metadata": {},
   "outputs": [
    {
     "name": "stdout",
     "output_type": "stream",
     "text": [
      "25\n",
      "125\n"
     ]
    }
   ],
   "source": [
    "#How we use to unpack tuples similarly we can grab the return values\n",
    "\n",
    "square , cube = square_cube(5)\n",
    "\n",
    "print(square)\n",
    "print(cube)"
   ]
  },
  {
   "cell_type": "markdown",
   "id": "b63795c2",
   "metadata": {},
   "source": [
    "#### Function vs Methods\n",
    "\n",
    "Methods are essentially functions built into objects. \n",
    "\n",
    "A method in python is somewhat similar to a function, except it is associated with object/classes\n",
    "\n",
    "* The method is implicitly used for an object for which it is called.\n",
    "* The method is accessible to data that is contained within the class.\n",
    "* These are accessed using `.` after the object to whom it belongs."
   ]
  },
  {
   "cell_type": "code",
   "execution_count": 13,
   "id": "d690929f",
   "metadata": {},
   "outputs": [
    {
     "data": {
      "text/plain": [
       "'MY NAME IS OPTIMUS PRIME 🤖'"
      ]
     },
     "execution_count": 13,
     "metadata": {},
     "output_type": "execute_result"
    }
   ],
   "source": [
    "txt = \"my name is optimus prime 🤖\"\n",
    "\n",
    "txt.upper() #upper()  is a function which belongs to object txt which is a string data type."
   ]
  }
 ],
 "metadata": {
  "kernelspec": {
   "display_name": "Python 3 (ipykernel)",
   "language": "python",
   "name": "python3"
  },
  "language_info": {
   "codemirror_mode": {
    "name": "ipython",
    "version": 3
   },
   "file_extension": ".py",
   "mimetype": "text/x-python",
   "name": "python",
   "nbconvert_exporter": "python",
   "pygments_lexer": "ipython3",
   "version": "3.9.13"
  }
 },
 "nbformat": 4,
 "nbformat_minor": 5
}
