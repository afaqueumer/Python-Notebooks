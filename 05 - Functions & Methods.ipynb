{
 "cells": [
  {
   "cell_type": "markdown",
   "id": "6f0b529b",
   "metadata": {},
   "source": [
    "# Functions & Methods "
   ]
  },
  {
   "cell_type": "markdown",
   "id": "87ff42fd",
   "metadata": {},
   "source": [
    "#### When/Why Functions?\n",
    "\n",
    "* When you want to use a block of code multiple times. __DRY__ - Do Not Repeat Yourself.\n",
    "* It only runs when it is called.\n",
    "* Building blocks of OOP.\n",
    "* Allows parameters/arguments that can serve as inputs to the functions.\n",
    "\n",
    "`def` is short for define. This is used for creating a function."
   ]
  },
  {
   "cell_type": "code",
   "execution_count": 1,
   "id": "8e8d3079",
   "metadata": {},
   "outputs": [],
   "source": [
    "#syntax of creating a function in Python\n",
    "def name_of_function():\n",
    "    '''\n",
    "    This is where the function's Document String (docstring) goes.\n",
    "    When you call help() or name.__doc__ on your function it will be printed out.\n",
    "    '''\n",
    "    # Write statements here\n",
    "    # Return something\n",
    "    \n",
    "#To call a function, use the function name followed by parenthesis\n",
    "name_of_function()"
   ]
  },
  {
   "cell_type": "markdown",
   "id": "e09c3519",
   "metadata": {},
   "source": [
    "#### Docstring\n",
    "\n",
    "* Provide a convenient way of associating documentation with Python modules, functions, classes, and methods.\n",
    "* The docstrings/document strings are declared using ”’triple single quotes”’ or “””triple double quotes””” just below the class, method or function declaration. \n",
    "* All functions should have a docstring (best practice)."
   ]
  },
  {
   "cell_type": "code",
   "execution_count": 2,
   "id": "62532deb",
   "metadata": {},
   "outputs": [
    {
     "name": "stdout",
     "output_type": "stream",
     "text": [
      "Help on function name_of_function in module __main__:\n",
      "\n",
      "name_of_function()\n",
      "    This is where the function's Document String (docstring) goes.\n",
      "    When you call help() or name.__doc__ on your function it will be printed out.\n",
      "\n"
     ]
    }
   ],
   "source": [
    "# access the docstring via help\n",
    "help(name_of_function)"
   ]
  },
  {
   "cell_type": "code",
   "execution_count": 3,
   "id": "bc960080",
   "metadata": {},
   "outputs": [
    {
     "name": "stdout",
     "output_type": "stream",
     "text": [
      "\n",
      "    This is where the function's Document String (docstring) goes.\n",
      "    When you call help() or name.__doc__ on your function it will be printed out.\n",
      "    \n"
     ]
    }
   ],
   "source": [
    "# access the docstring via magic method\n",
    "print(name_of_function.__doc__)"
   ]
  },
  {
   "cell_type": "markdown",
   "id": "4d75dcd4",
   "metadata": {},
   "source": [
    "__NOTE__: We can't define a function with the same name as a built-in function name in Python. \n",
    "        See here - https://docs.python.org/3/library/functions.html "
   ]
  },
  {
   "cell_type": "markdown",
   "id": "93a6d7dd",
   "metadata": {},
   "source": [
    "#### A basic function without return\n",
    "\n",
    "These functions simply perform the operations written in statements, but doesn't save the result."
   ]
  },
  {
   "cell_type": "code",
   "execution_count": 4,
   "id": "efbcdd94",
   "metadata": {},
   "outputs": [],
   "source": [
    "#defining a function\n",
    "def greet():\n",
    "    print(\"Hello there 👋\")"
   ]
  },
  {
   "cell_type": "code",
   "execution_count": 5,
   "id": "481d1ba9",
   "metadata": {},
   "outputs": [
    {
     "name": "stdout",
     "output_type": "stream",
     "text": [
      "Hello there 👋\n"
     ]
    }
   ],
   "source": [
    "#calling the function\n",
    "greet()"
   ]
  },
  {
   "cell_type": "code",
   "execution_count": 6,
   "id": "e5f0adc6",
   "metadata": {},
   "outputs": [
    {
     "name": "stdout",
     "output_type": "stream",
     "text": [
      "Hello there 👋\n",
      "Hello there 👋\n",
      "Hello there 👋\n"
     ]
    }
   ],
   "source": [
    "#we can call multiple times a function\n",
    "for i in range(3):\n",
    "    greet()"
   ]
  },
  {
   "cell_type": "markdown",
   "id": "bf174af2",
   "metadata": {},
   "source": [
    "#### Parameters vs Arguments\n",
    "\n",
    "Both these things are something that we pass in the --> __()__ when we wither define or call the function.\n",
    "\n",
    "__`Parameters`__ - What we define when we create the function.\n",
    "\n",
    "__`Arguments`__ - What we define when we call the function."
   ]
  },
  {
   "cell_type": "code",
   "execution_count": 7,
   "id": "7c08de81",
   "metadata": {},
   "outputs": [],
   "source": [
    "# Here name inside () is parameter\n",
    "def new_greet(name):\n",
    "    print(f'Hello {name} 🤖')"
   ]
  },
  {
   "cell_type": "code",
   "execution_count": 8,
   "id": "d8bdf77a",
   "metadata": {},
   "outputs": [
    {
     "name": "stdout",
     "output_type": "stream",
     "text": [
      "Hello Optimus 🤖\n"
     ]
    }
   ],
   "source": [
    "#Here the value \"Optimus\" is argument\n",
    "new_greet(\"Optimus\")"
   ]
  },
  {
   "cell_type": "markdown",
   "id": "de51ae60",
   "metadata": {},
   "source": [
    "__Note__ : \n",
    "\n",
    "    A function must be called with the correct number of arguments, Meaning that if your function expects n arguments, you have to call the function with n arguments, nothing more nothing less!!\""
   ]
  },
  {
   "cell_type": "markdown",
   "id": "37a0611f",
   "metadata": {},
   "source": [
    "#### A basic function with return\n",
    "`return`allows a function to return a result that can then be stored as a variable, or used in whatever manner a user wants."
   ]
  },
  {
   "cell_type": "code",
   "execution_count": 9,
   "id": "8117adc0",
   "metadata": {},
   "outputs": [],
   "source": [
    "def sum_of_two(num1,num2):\n",
    "    return num1+num2"
   ]
  },
  {
   "cell_type": "code",
   "execution_count": 10,
   "id": "d4fd91f0",
   "metadata": {},
   "outputs": [
    {
     "name": "stdout",
     "output_type": "stream",
     "text": [
      "10\n"
     ]
    }
   ],
   "source": [
    "# since sum_of_two is having return, we can store the output of this in some variable.\n",
    "result = sum_of_two(5,5) #this will return 10\n",
    "print(result)"
   ]
  },
  {
   "cell_type": "markdown",
   "id": "65826cef",
   "metadata": {},
   "source": [
    "#### Returning multiple values"
   ]
  },
  {
   "cell_type": "code",
   "execution_count": 11,
   "id": "5d3c0713",
   "metadata": {},
   "outputs": [],
   "source": [
    "def square_cube(n):\n",
    "    '''\n",
    "    This function returns square and cube of a number in respective order.\n",
    "    '''\n",
    "    s = n**2\n",
    "    c = n**3\n",
    "    return s,c    "
   ]
  },
  {
   "cell_type": "code",
   "execution_count": 12,
   "id": "b80d6288",
   "metadata": {},
   "outputs": [
    {
     "data": {
      "text/plain": [
       "(25, 125)"
      ]
     },
     "execution_count": 12,
     "metadata": {},
     "output_type": "execute_result"
    }
   ],
   "source": [
    "square_cube(5)"
   ]
  },
  {
   "cell_type": "code",
   "execution_count": 13,
   "id": "039d9f60",
   "metadata": {},
   "outputs": [
    {
     "name": "stdout",
     "output_type": "stream",
     "text": [
      "<class 'tuple'>\n"
     ]
    }
   ],
   "source": [
    "result = square_cube(5)\n",
    "print(type(result))"
   ]
  },
  {
   "cell_type": "code",
   "execution_count": 14,
   "id": "9172814c",
   "metadata": {},
   "outputs": [
    {
     "name": "stdout",
     "output_type": "stream",
     "text": [
      "25\n",
      "125\n"
     ]
    }
   ],
   "source": [
    "#How we use to unpack tuples similarly we can grab the return values\n",
    "\n",
    "square , cube = square_cube(5)\n",
    "\n",
    "print(square)\n",
    "print(cube)"
   ]
  },
  {
   "cell_type": "markdown",
   "id": "b63795c2",
   "metadata": {},
   "source": [
    "#### Function vs Methods\n",
    "\n",
    "Methods are essentially functions built into objects. \n",
    "\n",
    "A method in python is somewhat similar to a function, except it is associated with object/classes\n",
    "\n",
    "* The method is implicitly used for an object for which it is called.\n",
    "* The method is accessible to data that is contained within the class.\n",
    "* These are accessed using `.` after the object to whom it belongs."
   ]
  },
  {
   "cell_type": "code",
   "execution_count": 15,
   "id": "d690929f",
   "metadata": {},
   "outputs": [
    {
     "data": {
      "text/plain": [
       "'MY NAME IS OPTIMUS PRIME 🤖'"
      ]
     },
     "execution_count": 15,
     "metadata": {},
     "output_type": "execute_result"
    }
   ],
   "source": [
    "txt = \"my name is optimus prime 🤖\"\n",
    "\n",
    "txt.upper() #upper()  is a function which belongs to object txt which is a string data type."
   ]
  },
  {
   "cell_type": "markdown",
   "id": "ec81dc11",
   "metadata": {},
   "source": [
    "### *args vs *kwargs\n",
    "Special Symbols Used for passing arguments:-\n",
    "\n",
    "\n",
    " `*args` (Non-Keyword Arguments) --> used to take in more arguments than the number of arguments you previously defined.\n",
    " \n",
    " `**kwargs` (Keyword Arguments) --> maps each keyword to the value that we pass alongside it."
   ]
  },
  {
   "cell_type": "code",
   "execution_count": 16,
   "id": "222d5c03",
   "metadata": {},
   "outputs": [],
   "source": [
    "# Let's create a simple function to add the numbers.\n",
    "def sum_of_elements(x,y):\n",
    "    return x + y "
   ]
  },
  {
   "cell_type": "code",
   "execution_count": 17,
   "id": "293b7fa1",
   "metadata": {},
   "outputs": [
    {
     "data": {
      "text/plain": [
       "15"
      ]
     },
     "execution_count": 17,
     "metadata": {},
     "output_type": "execute_result"
    }
   ],
   "source": [
    "sum_of_elements(5,10)"
   ]
  },
  {
   "cell_type": "markdown",
   "id": "98c5f6f3",
   "metadata": {},
   "source": [
    "When we are not sure about the number of variables that needs to be passed(arguments) we use *args"
   ]
  },
  {
   "cell_type": "code",
   "execution_count": 18,
   "id": "40f19407",
   "metadata": {},
   "outputs": [],
   "source": [
    "def sum_of_elements(*args):\n",
    "    return sum(args)"
   ]
  },
  {
   "cell_type": "code",
   "execution_count": 19,
   "id": "b2310093",
   "metadata": {},
   "outputs": [
    {
     "data": {
      "text/plain": [
       "10"
      ]
     },
     "execution_count": 19,
     "metadata": {},
     "output_type": "execute_result"
    }
   ],
   "source": [
    "sum_of_elements(1,2,3,4)"
   ]
  },
  {
   "cell_type": "markdown",
   "id": "43c06fb1",
   "metadata": {},
   "source": [
    "__Note :__\n",
    "\n",
    "* It's not necessary to use only \"*args\", \"*x\" will also work in similar fashion.\n",
    "* Using the *, the variable that we associate with the * becomes an iterable meaning you can do things like iterate over it, run some higher-order functions such as map and filter, etc.\n",
    "* It basically converts all the arguments into tuple."
   ]
  },
  {
   "cell_type": "code",
   "execution_count": 20,
   "id": "587efddf",
   "metadata": {},
   "outputs": [
    {
     "name": "stdout",
     "output_type": "stream",
     "text": [
      "<class 'tuple'>\n"
     ]
    },
    {
     "data": {
      "text/plain": [
       "10"
      ]
     },
     "execution_count": 20,
     "metadata": {},
     "output_type": "execute_result"
    }
   ],
   "source": [
    "def sum_of_elements(*args):\n",
    "    print(type(args))\n",
    "    return sum(args)\n",
    "\n",
    "sum_of_elements(1,2,3,4)"
   ]
  },
  {
   "cell_type": "code",
   "execution_count": 21,
   "id": "cf26f609",
   "metadata": {},
   "outputs": [
    {
     "name": "stdout",
     "output_type": "stream",
     "text": [
      "First argument is --> Hi\n",
      "Next argument through *args is --> Hello\n",
      "Next argument through *args is --> Welcome\n",
      "Next argument through *args is --> Good Bye!\n"
     ]
    }
   ],
   "source": [
    "def arg_fun(x, *args):\n",
    "    print(f\"First argument is --> {x}\")\n",
    "    for arg in args:\n",
    "        print(f\"Next argument through *args is --> {arg}\")\n",
    " \n",
    " \n",
    "arg_fun('Hi', 'Hello', 'Welcome', 'Good Bye!')"
   ]
  },
  {
   "cell_type": "markdown",
   "id": "2f408388",
   "metadata": {},
   "source": [
    "__Note :__\n",
    "\n",
    "* A keyword argument is where you provide a name to the variable as you pass it into the function.\n",
    "* It basically converts all the arguments into dictionary."
   ]
  },
  {
   "cell_type": "code",
   "execution_count": 22,
   "id": "976aa496",
   "metadata": {},
   "outputs": [
    {
     "name": "stdout",
     "output_type": "stream",
     "text": [
      "<class 'dict'>\n",
      "kwargs is --> {'first_name': 'Optimus', 'last_name': 'Prime'}\n",
      "The keys are --> dict_keys(['first_name', 'last_name'])\n",
      "The keys are --> dict_values(['Optimus', 'Prime'])\n",
      "{'first_name': 'Optimus', 'last_name': 'Prime'}\n"
     ]
    }
   ],
   "source": [
    "def kwarg_fun(**kwargs):\n",
    "    print(type(kwargs))\n",
    "    print(f\"kwargs is --> {kwargs}\")\n",
    "    print(f\"The keys are --> {kwargs.keys()}\")\n",
    "    print(f\"The keys are --> {kwargs.values()}\")\n",
    "    print(kwargs)\n",
    " \n",
    " \n",
    "# Driver code\n",
    "kwarg_fun(first_name='Optimus', last_name='Prime')"
   ]
  },
  {
   "cell_type": "markdown",
   "id": "b20b2ea3",
   "metadata": {},
   "source": [
    "#### *args & **kwargs together"
   ]
  },
  {
   "cell_type": "code",
   "execution_count": 23,
   "id": "6dd755c0",
   "metadata": {},
   "outputs": [],
   "source": [
    "def args_kwargs(*args, **kwargs):\n",
    "    print(\"args are --> \", args)\n",
    "    print(\"kwargs are --> \", kwargs)"
   ]
  },
  {
   "cell_type": "code",
   "execution_count": 24,
   "id": "3eff47f2",
   "metadata": {},
   "outputs": [
    {
     "name": "stdout",
     "output_type": "stream",
     "text": [
      "args are -->  ('Autobots', 'Decepticons', 'Transformers')\n",
      "kwargs are -->  {'first_name': 'Optimus', 'last_name': 'Prime'}\n"
     ]
    }
   ],
   "source": [
    "args_kwargs('Autobots', 'Decepticons', 'Transformers', first_name='Optimus', last_name='Prime')"
   ]
  },
  {
   "cell_type": "markdown",
   "id": "8fc1d409",
   "metadata": {},
   "source": [
    "__Order Rule for Passing Arguments 📋__\n",
    "\n",
    "`params` --> `*args` --> `default parameters` --> `**kwargs`"
   ]
  }
 ],
 "metadata": {
  "kernelspec": {
   "display_name": "Python 3 (ipykernel)",
   "language": "python",
   "name": "python3"
  },
  "language_info": {
   "codemirror_mode": {
    "name": "ipython",
    "version": 3
   },
   "file_extension": ".py",
   "mimetype": "text/x-python",
   "name": "python",
   "nbconvert_exporter": "python",
   "pygments_lexer": "ipython3",
   "version": "3.9.13"
  }
 },
 "nbformat": 4,
 "nbformat_minor": 5
}
