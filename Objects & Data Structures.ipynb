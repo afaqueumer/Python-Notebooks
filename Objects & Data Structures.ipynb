{
 "cells": [
  {
   "cell_type": "markdown",
   "id": "f3cb0ba9",
   "metadata": {},
   "source": [
    "## Built-in Data Types"
   ]
  },
  {
   "cell_type": "markdown",
   "id": "385b6451",
   "metadata": {},
   "source": [
    "Python has the following data types built-in by default, in these categories:\n",
    "\n",
    "* Text Type:\tstr\n",
    "* Numeric Types:\tint, float, complex\n",
    "* Sequence Types:\tlist, tuple, range\n",
    "* Mapping Type:\tdict\n",
    "* Set Types:\tset, frozenset\n",
    "* Boolean Type:\tbool\n",
    "* Binary Types:\tbytes, bytearray, memoryview\n",
    "* None Type:\tNoneType"
   ]
  },
  {
   "cell_type": "markdown",
   "id": "494c7dc9",
   "metadata": {},
   "source": [
    "__Writing Comments in Python - https://realpython.com/python-comments-guide/__"
   ]
  },
  {
   "cell_type": "markdown",
   "id": "7e9e44a9",
   "metadata": {},
   "source": [
    "__Python Keywords - https://www.w3schools.com/python/python_ref_keywords.asp__"
   ]
  },
  {
   "cell_type": "markdown",
   "id": "0cce21f8",
   "metadata": {},
   "source": [
    "__Built-in Functions - https://docs.python.org/3/library/functions.html__"
   ]
  },
  {
   "cell_type": "markdown",
   "id": "935164a5",
   "metadata": {},
   "source": [
    "__Math Functions - https://www.programiz.com/python-programming/modules/math__"
   ]
  },
  {
   "cell_type": "markdown",
   "id": "30d940c6",
   "metadata": {},
   "source": [
    "***"
   ]
  },
  {
   "cell_type": "markdown",
   "id": "2048fe49",
   "metadata": {},
   "source": [
    "### Strings"
   ]
  },
  {
   "cell_type": "code",
   "execution_count": 1,
   "id": "e0cc34c1",
   "metadata": {},
   "outputs": [
    {
     "name": "stdout",
     "output_type": "stream",
     "text": [
      "Hello\n",
      "Lorem ipsum dolor sit amet,\n",
      "consectetur adipiscing elit,\n",
      "sed do eiusmod tempor incididunt\n",
      "ut labore et dolore magna aliqua.\n"
     ]
    }
   ],
   "source": [
    "# Strings in python are surrounded by either single quotation marks, or double quotation marks.\n",
    "# 'hello' is the same as \"hello\".\n",
    "\n",
    "a = \"Hello\"\n",
    "\n",
    "# You can assign a multiline string to a variable by using three quotes:\n",
    "\n",
    "b = \"\"\"Lorem ipsum dolor sit amet,\n",
    "consectetur adipiscing elit,\n",
    "sed do eiusmod tempor incididunt\n",
    "ut labore et dolore magna aliqua.\"\"\"\n",
    "\n",
    "print(a)\n",
    "print(b)"
   ]
  },
  {
   "cell_type": "code",
   "execution_count": 2,
   "id": "0a0bd41b",
   "metadata": {},
   "outputs": [
    {
     "name": "stdout",
     "output_type": "stream",
     "text": [
      "str1 + str2 =  Hala Madrid !!!\n",
      "str1 * 3 = Hala Hala Hala \n"
     ]
    }
   ],
   "source": [
    "# concatenation\n",
    "str1 = 'Hala '\n",
    "str2 ='Madrid !!!'\n",
    "\n",
    "# using +\n",
    "print('str1 + str2 = ', str1 + str2)\n",
    "\n",
    "# using *\n",
    "print('str1 * 3 =', str1 * 3)"
   ]
  },
  {
   "cell_type": "code",
   "execution_count": 3,
   "id": "0a212c4f",
   "metadata": {},
   "outputs": [
    {
     "name": "stdout",
     "output_type": "stream",
     "text": [
      "a\n",
      "!\n",
      "P-y-t-h-o-n-\n",
      "29 letters found\n"
     ]
    }
   ],
   "source": [
    "# Strings in Python are arrays of bytes representing unicode characters.\n",
    "# Since strings are arrays, we can loop through the characters in a string, with a for loop.\n",
    "\n",
    "a = \"Hala Madrid!\"\n",
    "print(a[6])\n",
    "print(a[-1])\n",
    "\n",
    "\n",
    "for x in \"Python\":\n",
    "    print(x, end = \"-\")\n",
    "    \n",
    "    \n",
    "\n",
    "print()\n",
    "count = 0\n",
    "for letter in 'Welcome to Python programming':\n",
    "    count += 1 \n",
    "    #count = count + 1\n",
    "    \n",
    "print(count,'letters found')"
   ]
  },
  {
   "cell_type": "code",
   "execution_count": 4,
   "id": "d0a8f034",
   "metadata": {},
   "outputs": [
    {
     "name": "stdout",
     "output_type": "stream",
     "text": [
      "Aliens\n",
      "333333\n",
      "444444\n",
      "!sneilA olleH\n",
      "!sneilA olleH\n"
     ]
    }
   ],
   "source": [
    "## Slicing - [Start : Stop : Step]\n",
    "# Specify the start index and the end index, separated by a colon, to return a part of the string.\n",
    "\n",
    "a = \"Hello Aliens!\"\n",
    "print(a[6:12])\n",
    "\n",
    "b=\"343434343434\"\n",
    "print(b[::2])\n",
    "print(b[1::2])\n",
    "\n",
    "# Use negative indexes to start the slice from the end of the string.\n",
    "\n",
    "a = \"Hello Aliens!\"\n",
    "print(a[::-1])\n",
    "print(a[::-1])"
   ]
  },
  {
   "cell_type": "markdown",
   "id": "fba753a4",
   "metadata": {},
   "source": [
    "##### Note: Strings are immutable -  doesn't support item assigment."
   ]
  },
  {
   "cell_type": "code",
   "execution_count": 5,
   "id": "67a42515",
   "metadata": {},
   "outputs": [
    {
     "name": "stdout",
     "output_type": "stream",
     "text": [
      "True\n",
      "False\n",
      "True\n"
     ]
    }
   ],
   "source": [
    "# To check if a certain phrase or character is present in a string, we can use the keyword 'in' in an if statement,\n",
    "# if NOT present in a string, we can use the keyword not in.\n",
    "\n",
    "txt = \"This is about built in functions in strings\"\n",
    "print(\"built\" in txt)\n",
    "print(\"builtin\" in txt)\n",
    "print(\"builtin\" not in txt)"
   ]
  },
  {
   "cell_type": "markdown",
   "id": "d053926e",
   "metadata": {},
   "source": [
    "#### String Methods()\n",
    "Python has a set of built-in methods that you can use on strings."
   ]
  },
  {
   "cell_type": "code",
   "execution_count": 6,
   "id": "15176717",
   "metadata": {},
   "outputs": [],
   "source": [
    "a = \"Hala Madrid!!\""
   ]
  },
  {
   "cell_type": "code",
   "execution_count": 7,
   "id": "060c17b1",
   "metadata": {},
   "outputs": [
    {
     "data": {
      "text/plain": [
       "'Hala madrid!!'"
      ]
     },
     "execution_count": 7,
     "metadata": {},
     "output_type": "execute_result"
    }
   ],
   "source": [
    "a.capitalize() #Converts the first character to upper case"
   ]
  },
  {
   "cell_type": "code",
   "execution_count": 8,
   "id": "b7a41775",
   "metadata": {},
   "outputs": [
    {
     "data": {
      "text/plain": [
       "'hala madrid!!'"
      ]
     },
     "execution_count": 8,
     "metadata": {},
     "output_type": "execute_result"
    }
   ],
   "source": [
    "a.casefold() #Converts string into lower case"
   ]
  },
  {
   "cell_type": "code",
   "execution_count": 9,
   "id": "1210ae49",
   "metadata": {},
   "outputs": [
    {
     "data": {
      "text/plain": [
       "3"
      ]
     },
     "execution_count": 9,
     "metadata": {},
     "output_type": "execute_result"
    }
   ],
   "source": [
    "a.count('a') #Returns the number of times a specified value occurs in a string"
   ]
  },
  {
   "cell_type": "code",
   "execution_count": 10,
   "id": "5e4f1402",
   "metadata": {},
   "outputs": [
    {
     "data": {
      "text/plain": [
       "b'Hala Madrid!!'"
      ]
     },
     "execution_count": 10,
     "metadata": {},
     "output_type": "execute_result"
    }
   ],
   "source": [
    "a.encode()"
   ]
  },
  {
   "cell_type": "code",
   "execution_count": 11,
   "id": "5bd7f99d",
   "metadata": {},
   "outputs": [
    {
     "data": {
      "text/plain": [
       "False"
      ]
     },
     "execution_count": 11,
     "metadata": {},
     "output_type": "execute_result"
    }
   ],
   "source": [
    "a.endswith('rid!') #Returns true if the string ends with the specified value"
   ]
  },
  {
   "cell_type": "code",
   "execution_count": 12,
   "id": "773a0bdc",
   "metadata": {},
   "outputs": [
    {
     "data": {
      "text/plain": [
       "1"
      ]
     },
     "execution_count": 12,
     "metadata": {},
     "output_type": "execute_result"
    }
   ],
   "source": [
    "a.find('a') #Searches the string for a specified value and returns the position of where it was found first."
   ]
  },
  {
   "cell_type": "code",
   "execution_count": 13,
   "id": "5d85fed8",
   "metadata": {},
   "outputs": [
    {
     "data": {
      "text/plain": [
       "6"
      ]
     },
     "execution_count": 13,
     "metadata": {},
     "output_type": "execute_result"
    }
   ],
   "source": [
    "a.rfind('a') #Searches the string for a specified value and returns the last position of where it was found"
   ]
  },
  {
   "cell_type": "code",
   "execution_count": 14,
   "id": "5acd9aab",
   "metadata": {},
   "outputs": [
    {
     "name": "stdout",
     "output_type": "stream",
     "text": [
      "1\n",
      "6\n"
     ]
    }
   ],
   "source": [
    "print(a.index('a')) #Searches the string for a specified value and returns the position of where it was found first.\n",
    "\n",
    "print(a.index('a',4,9))"
   ]
  },
  {
   "cell_type": "code",
   "execution_count": 15,
   "id": "2d103c06",
   "metadata": {},
   "outputs": [
    {
     "data": {
      "text/plain": [
       "6"
      ]
     },
     "execution_count": 15,
     "metadata": {},
     "output_type": "execute_result"
    }
   ],
   "source": [
    "a.rindex('a') #Searches the string for a specified value and returns the last position of where it was found."
   ]
  },
  {
   "cell_type": "code",
   "execution_count": 16,
   "id": "364f7ba4",
   "metadata": {},
   "outputs": [
    {
     "name": "stdout",
     "output_type": "stream",
     "text": [
      "-1\n"
     ]
    }
   ],
   "source": [
    "### Both index and find is similar, if a character is not found 'find' returns -1 whereas \"index\" throws error\n",
    "print(a.find('w'))\n",
    "#print(a.index('w'))"
   ]
  },
  {
   "cell_type": "code",
   "execution_count": 17,
   "id": "d0a5d68b",
   "metadata": {},
   "outputs": [
    {
     "name": "stdout",
     "output_type": "stream",
     "text": [
      "False\n",
      "True\n",
      "True\n",
      "False\n"
     ]
    }
   ],
   "source": [
    "print(a.isalpha()) #Returns True if all characters in the string are in the alphabet (a-z, A-Z).\n",
    "print(\"ALPHA\".isalpha())\n",
    "print(\"alpha\".isalpha())\n",
    "print(\"a l p h a\".isalpha())"
   ]
  },
  {
   "cell_type": "code",
   "execution_count": 18,
   "id": "7c391e09",
   "metadata": {},
   "outputs": [
    {
     "name": "stdout",
     "output_type": "stream",
     "text": [
      "False\n",
      "True\n",
      "True\n"
     ]
    }
   ],
   "source": [
    "print(a.isdecimal()) #Returns True if all characters in the string are decimals (0-9), unicode objects..\n",
    "print(\"12340\".isdecimal())\n",
    "print(\"\\u0033\".isdecimal())"
   ]
  },
  {
   "cell_type": "code",
   "execution_count": 19,
   "id": "17e80a49",
   "metadata": {},
   "outputs": [
    {
     "name": "stdout",
     "output_type": "stream",
     "text": [
      "True\n",
      "True\n"
     ]
    }
   ],
   "source": [
    "print(\"12340\".isnumeric()) #Returns True if all the characters are numeric (0-9), otherwise False.\n",
    "print(\"\\u0033\".isnumeric()) "
   ]
  },
  {
   "cell_type": "code",
   "execution_count": 20,
   "id": "8c7c6915",
   "metadata": {},
   "outputs": [
    {
     "data": {
      "text/plain": [
       "False"
      ]
     },
     "execution_count": 20,
     "metadata": {},
     "output_type": "execute_result"
    }
   ],
   "source": [
    "a.islower()"
   ]
  },
  {
   "cell_type": "code",
   "execution_count": 21,
   "id": "e5c6b942",
   "metadata": {},
   "outputs": [
    {
     "data": {
      "text/plain": [
       "False"
      ]
     },
     "execution_count": 21,
     "metadata": {},
     "output_type": "execute_result"
    }
   ],
   "source": [
    "a.isupper()"
   ]
  },
  {
   "cell_type": "code",
   "execution_count": 22,
   "id": "696a46c3",
   "metadata": {},
   "outputs": [
    {
     "data": {
      "text/plain": [
       "'Hala Madrid!!'"
      ]
     },
     "execution_count": 22,
     "metadata": {},
     "output_type": "execute_result"
    }
   ],
   "source": [
    "a.title() #\tConverts the first character of each word to upper case."
   ]
  },
  {
   "cell_type": "code",
   "execution_count": 23,
   "id": "23fe90b0",
   "metadata": {},
   "outputs": [
    {
     "data": {
      "text/plain": [
       "'HALA MADRID!!'"
      ]
     },
     "execution_count": 23,
     "metadata": {},
     "output_type": "execute_result"
    }
   ],
   "source": [
    "a.upper()"
   ]
  },
  {
   "cell_type": "code",
   "execution_count": 24,
   "id": "f2b42d6d",
   "metadata": {},
   "outputs": [
    {
     "data": {
      "text/plain": [
       "['Hala', 'Madrid!!']"
      ]
     },
     "execution_count": 24,
     "metadata": {},
     "output_type": "execute_result"
    }
   ],
   "source": [
    "a.split() #Splits the string at the specified separator, and returns a list."
   ]
  },
  {
   "cell_type": "code",
   "execution_count": 25,
   "id": "282999b0",
   "metadata": {},
   "outputs": [
    {
     "data": {
      "text/plain": [
       "['H', 'l', ' M', 'drid!!']"
      ]
     },
     "execution_count": 25,
     "metadata": {},
     "output_type": "execute_result"
    }
   ],
   "source": [
    "a.split(\"a\")"
   ]
  },
  {
   "cell_type": "code",
   "execution_count": 26,
   "id": "68772d3b",
   "metadata": {},
   "outputs": [
    {
     "data": {
      "text/plain": [
       "['apple', 'banana', 'cherry']"
      ]
     },
     "execution_count": 26,
     "metadata": {},
     "output_type": "execute_result"
    }
   ],
   "source": [
    "txt = \"apple, banana, cherry\"\n",
    "txt.split(\", \",)"
   ]
  },
  {
   "cell_type": "code",
   "execution_count": 27,
   "id": "c3fe17fe",
   "metadata": {},
   "outputs": [
    {
     "data": {
      "text/plain": [
       "'hello    hello   '"
      ]
     },
     "execution_count": 27,
     "metadata": {},
     "output_type": "execute_result"
    }
   ],
   "source": [
    "\"    hello    hello   \".lstrip()"
   ]
  },
  {
   "cell_type": "code",
   "execution_count": 28,
   "id": "b320904d",
   "metadata": {},
   "outputs": [
    {
     "data": {
      "text/plain": [
       "'    hello    hello'"
      ]
     },
     "execution_count": 28,
     "metadata": {},
     "output_type": "execute_result"
    }
   ],
   "source": [
    "\"    hello    hello   \".rstrip()"
   ]
  },
  {
   "cell_type": "code",
   "execution_count": 29,
   "id": "0170da16",
   "metadata": {},
   "outputs": [
    {
     "data": {
      "text/plain": [
       "'Cat'"
      ]
     },
     "execution_count": 29,
     "metadata": {},
     "output_type": "execute_result"
    }
   ],
   "source": [
    "\"Bat\".replace('B','C') #Returns a string where a specified value is replaced with a specified value"
   ]
  },
  {
   "cell_type": "code",
   "execution_count": 30,
   "id": "eb286c80",
   "metadata": {},
   "outputs": [
    {
     "data": {
      "text/plain": [
       "'PyThOn pRoGrAmMiNg'"
      ]
     },
     "execution_count": 30,
     "metadata": {},
     "output_type": "execute_result"
    }
   ],
   "source": [
    "\"pYtHoN PrOgRaMmInG\".swapcase()"
   ]
  },
  {
   "cell_type": "markdown",
   "id": "c0aebdad",
   "metadata": {},
   "source": [
    "#### f-string (formatted string literals)"
   ]
  },
  {
   "cell_type": "code",
   "execution_count": 31,
   "id": "f6aa98e9",
   "metadata": {},
   "outputs": [
    {
     "name": "stdout",
     "output_type": "stream",
     "text": [
      "This is a formatted string in 'python' version --> 3.8\n"
     ]
    }
   ],
   "source": [
    "a = \"formatted\"\n",
    "b = 'python'\n",
    "c = 3.8\n",
    "print(f\"This is a {a} string in '{b}' version --> {c}\")"
   ]
  },
  {
   "cell_type": "code",
   "execution_count": 32,
   "id": "092ec111",
   "metadata": {},
   "outputs": [
    {
     "name": "stdout",
     "output_type": "stream",
     "text": [
      "14.286\n",
      "   14.285714\n",
      "00014.285714\n"
     ]
    }
   ],
   "source": [
    "result = 100/7\n",
    "print(f\"{result:0.3f}\") # {value:width.precision f}\n",
    "print(f\"{result:12.6f}\") # width just adds the whitespace to makeup the width.\n",
    "print(f\"{result:012.6f}\") # width for float numbers filled with zeros"
   ]
  },
  {
   "cell_type": "code",
   "execution_count": 33,
   "id": "6e654df9",
   "metadata": {},
   "outputs": [
    {
     "name": "stdout",
     "output_type": "stream",
     "text": [
      "This is an example of padding     in python\n",
      "This is an example of     padding in python\n",
      "This is an example of   padding   in python\n",
      "This is an example of --padding-- in python\n"
     ]
    }
   ],
   "source": [
    "# string padding with left alignment\n",
    "print(f\"This is an example of {'padding':11} in python\")\n",
    "\n",
    "# string padding with right alignment\n",
    "print(f\"This is an example of {'padding':>11} in python\")\n",
    "\n",
    "# string padding with center alignment\n",
    "print(f\"This is an example of {'padding':^11} in python\")\n",
    "\n",
    "# string padding with center alignment and with '-' as padding character\n",
    "print(f\"This is an example of {'padding':-^11} in python\")"
   ]
  },
  {
   "cell_type": "markdown",
   "id": "1dfff538",
   "metadata": {},
   "source": [
    "##### Note: Python uses 'Dynamic Typing' - we can reassign any variable to different data type."
   ]
  },
  {
   "cell_type": "code",
   "execution_count": 34,
   "id": "83e48f65",
   "metadata": {},
   "outputs": [
    {
     "name": "stdout",
     "output_type": "stream",
     "text": [
      "String\n",
      "1234\n",
      "1.2\n"
     ]
    }
   ],
   "source": [
    "a = \"String\"\n",
    "print(a)\n",
    "a = 1234\n",
    "print(a)\n",
    "a = 1.2\n",
    "print(a)"
   ]
  },
  {
   "cell_type": "markdown",
   "id": "a96a9d10",
   "metadata": {},
   "source": [
    "__String Methods - https://www.w3schools.com/python/python_ref_string.asp__"
   ]
  },
  {
   "cell_type": "markdown",
   "id": "9c0ee3b1",
   "metadata": {},
   "source": [
    "***"
   ]
  },
  {
   "cell_type": "markdown",
   "id": "7f0f27c3",
   "metadata": {},
   "source": [
    "## Lists\n",
    "\n",
    "* Lists are used to store multiple items in a single variable.\n",
    "* List items are ordered(items have a defined order, and that order will not change).\n",
    "* Lists can have duplicates items. \n",
    "* We can change, add, and remove items in a list after it has been created.\n",
    "* If you add new items to a list, the new items will be placed at the end of the list."
   ]
  },
  {
   "cell_type": "code",
   "execution_count": 35,
   "id": "eb08cf04",
   "metadata": {},
   "outputs": [
    {
     "data": {
      "text/plain": [
       "['apple', 100, 'grapes']"
      ]
     },
     "execution_count": 35,
     "metadata": {},
     "output_type": "execute_result"
    }
   ],
   "source": [
    "# Lists are created using square brackets.\n",
    "[\"apple\", 100, \"grapes\"]"
   ]
  },
  {
   "cell_type": "code",
   "execution_count": 36,
   "id": "e4e40cf4",
   "metadata": {},
   "outputs": [
    {
     "data": {
      "text/plain": [
       "['apple', 12.5, 'grapes']"
      ]
     },
     "execution_count": 36,
     "metadata": {},
     "output_type": "execute_result"
    }
   ],
   "source": [
    "# It can also be created using list() constructor.\n",
    "list((\"apple\", 12.5, \"grapes\"))"
   ]
  },
  {
   "cell_type": "code",
   "execution_count": 37,
   "id": "9d8cdeef",
   "metadata": {},
   "outputs": [
    {
     "name": "stdout",
     "output_type": "stream",
     "text": [
      "<class 'list'>\n"
     ]
    }
   ],
   "source": [
    "a = ['apple', 'mango', 100, 1.25, 'Batman', 'NYC']\n",
    "print(type(a))"
   ]
  },
  {
   "cell_type": "code",
   "execution_count": 38,
   "id": "2d49eb44",
   "metadata": {},
   "outputs": [
    {
     "data": {
      "text/plain": [
       "['apple', 'replaced', 100, 1.25, 'Batman', 'NYC']"
      ]
     },
     "execution_count": 38,
     "metadata": {},
     "output_type": "execute_result"
    }
   ],
   "source": [
    "## change/replace\n",
    "\n",
    "a[1] = \"replaced\"\n",
    "a"
   ]
  },
  {
   "cell_type": "code",
   "execution_count": 39,
   "id": "46b29cf6",
   "metadata": {},
   "outputs": [
    {
     "data": {
      "text/plain": [
       "6"
      ]
     },
     "execution_count": 39,
     "metadata": {},
     "output_type": "execute_result"
    }
   ],
   "source": [
    "len(a)"
   ]
  },
  {
   "cell_type": "code",
   "execution_count": 40,
   "id": "65ba2e4c",
   "metadata": {},
   "outputs": [
    {
     "name": "stdout",
     "output_type": "stream",
     "text": [
      "apple --> <class 'str'>\n",
      "replaced --> <class 'str'>\n",
      "100 --> <class 'int'>\n",
      "1.25 --> <class 'float'>\n",
      "Batman --> <class 'str'>\n",
      "NYC --> <class 'str'>\n"
     ]
    }
   ],
   "source": [
    "## iterate through\n",
    "\n",
    "for item in a:\n",
    "    print(f\"{item} --> {type(item)}\")"
   ]
  },
  {
   "cell_type": "code",
   "execution_count": 41,
   "id": "567f7c1d",
   "metadata": {},
   "outputs": [
    {
     "name": "stdout",
     "output_type": "stream",
     "text": [
      "apple\n",
      "NYC\n",
      "['apple', 'replaced', 100, 1.25]\n",
      "[100, 1.25, 'Batman', 'NYC']\n",
      "['apple', 'replaced', 100, 1.25, 'Batman', 'NYC']\n"
     ]
    }
   ],
   "source": [
    "#Since a list is an ordered sequence of elements, we can use indexing and slicing.\n",
    "\n",
    "## accessing a list\n",
    "print(a[0])\n",
    "\n",
    "## -ve indexing\n",
    "print(a[-1])\n",
    "\n",
    "### slice lists \n",
    "# elements beginning to 4th\n",
    "print(a[:4])\n",
    "\n",
    "## elements 2nd to end\n",
    "print(a[2:])\n",
    "\n",
    "## elements beginning to end\n",
    "print(a[:])"
   ]
  },
  {
   "cell_type": "code",
   "execution_count": 42,
   "id": "156dd75e",
   "metadata": {},
   "outputs": [
    {
     "name": "stdout",
     "output_type": "stream",
     "text": [
      "['one', 'two', 'three', 4, 5, 6]\n"
     ]
    }
   ],
   "source": [
    "## concatenation of list\n",
    "\n",
    "list1 = [\"one\",\"two\",\"three\"]\n",
    "list2 = [4,5,6]\n",
    "final_list = list1 + list2\n",
    "print(final_list)"
   ]
  },
  {
   "cell_type": "markdown",
   "id": "0393dfc0",
   "metadata": {},
   "source": [
    "__List Methods - https://www.w3schools.com/python/python_ref_list.asp__"
   ]
  },
  {
   "cell_type": "markdown",
   "id": "352548ba",
   "metadata": {},
   "source": [
    "#### List Methods()"
   ]
  },
  {
   "cell_type": "code",
   "execution_count": 43,
   "id": "8186aff5",
   "metadata": {},
   "outputs": [],
   "source": [
    "l = [\"one\",\"two\",\"three\",\"four\",\"five\",\"six\"]"
   ]
  },
  {
   "cell_type": "code",
   "execution_count": 44,
   "id": "fff92d00",
   "metadata": {},
   "outputs": [
    {
     "data": {
      "text/plain": [
       "['one', 'two', 'three', 'four', 'five', 'six', 'seven', ['eight', 'nine']]"
      ]
     },
     "execution_count": 44,
     "metadata": {},
     "output_type": "execute_result"
    }
   ],
   "source": [
    "l.append(\"seven\") #Adds an element at the end of the list\n",
    "l\n",
    "l.append([\"eight\",\"nine\"])\n",
    "l"
   ]
  },
  {
   "cell_type": "code",
   "execution_count": 45,
   "id": "f5acbb7a",
   "metadata": {},
   "outputs": [
    {
     "data": {
      "text/plain": [
       "['one', 'two', 'three', 'four', 'five', 'six', 'seven']"
      ]
     },
     "execution_count": 45,
     "metadata": {},
     "output_type": "execute_result"
    }
   ],
   "source": [
    "l.pop(-1) #Removes the element at the specified position,  default value is -1, which returns the last item.\n",
    "l"
   ]
  },
  {
   "cell_type": "code",
   "execution_count": 46,
   "id": "b5ce4322",
   "metadata": {},
   "outputs": [
    {
     "data": {
      "text/plain": [
       "2"
      ]
     },
     "execution_count": 46,
     "metadata": {},
     "output_type": "execute_result"
    }
   ],
   "source": [
    "l.index(\"three\") #Returns the position at the first occurrence of the specified value."
   ]
  },
  {
   "cell_type": "code",
   "execution_count": 47,
   "id": "bcac09fc",
   "metadata": {},
   "outputs": [
    {
     "data": {
      "text/plain": [
       "'seven'"
      ]
     },
     "execution_count": 47,
     "metadata": {},
     "output_type": "execute_result"
    }
   ],
   "source": [
    "l.pop()"
   ]
  },
  {
   "cell_type": "code",
   "execution_count": 48,
   "id": "174c81dd",
   "metadata": {
    "scrolled": true
   },
   "outputs": [
    {
     "data": {
      "text/plain": [
       "['one', 'two', 'three', 'four', 'five', 'six']"
      ]
     },
     "execution_count": 48,
     "metadata": {},
     "output_type": "execute_result"
    }
   ],
   "source": [
    "l"
   ]
  },
  {
   "cell_type": "code",
   "execution_count": 49,
   "id": "2d475b5e",
   "metadata": {},
   "outputs": [
    {
     "name": "stdout",
     "output_type": "stream",
     "text": [
      "['six', 'five', 'four', 'three', 'two', 'one']\n",
      "['one', 'two', 'three', 'four', 'five', 'six']\n"
     ]
    }
   ],
   "source": [
    "l.reverse() # Reverses the order of the list.\n",
    "print(l)\n",
    "l.reverse()\n",
    "print(l)"
   ]
  },
  {
   "cell_type": "code",
   "execution_count": 50,
   "id": "e8f2fcc0",
   "metadata": {},
   "outputs": [
    {
     "data": {
      "text/plain": [
       "['one', 2, 'two', 'three', 'four', 'five', 'six']"
      ]
     },
     "execution_count": 50,
     "metadata": {},
     "output_type": "execute_result"
    }
   ],
   "source": [
    "l.insert(1, 2) #Adds an element at the specified position\n",
    "l"
   ]
  },
  {
   "cell_type": "code",
   "execution_count": 51,
   "id": "19090b34",
   "metadata": {},
   "outputs": [
    {
     "data": {
      "text/plain": [
       "['one', 'two', 'three', 'four', 'five', 'six']"
      ]
     },
     "execution_count": 51,
     "metadata": {},
     "output_type": "execute_result"
    }
   ],
   "source": [
    "l.remove(2) #Removes the first occurrence of the element with the specified value.\n",
    "l"
   ]
  },
  {
   "cell_type": "code",
   "execution_count": 52,
   "id": "e209de6e",
   "metadata": {},
   "outputs": [
    {
     "data": {
      "text/plain": [
       "['one', 'two', 'three', 'four', 'five', 'six', 7, 8, 9, 10]"
      ]
     },
     "execution_count": 52,
     "metadata": {},
     "output_type": "execute_result"
    }
   ],
   "source": [
    "l.extend([7,8,9,10]) #Add the elements of a list (or any iterable), to the end of the current list.\n",
    "l"
   ]
  },
  {
   "cell_type": "code",
   "execution_count": 53,
   "id": "de02e1b1",
   "metadata": {},
   "outputs": [
    {
     "name": "stdout",
     "output_type": "stream",
     "text": [
      "['one', 'two', 'three', 'four', 'five', 'six', 7, 8, 9, 10, 10, 10]\n"
     ]
    },
    {
     "data": {
      "text/plain": [
       "3"
      ]
     },
     "execution_count": 53,
     "metadata": {},
     "output_type": "execute_result"
    }
   ],
   "source": [
    "l.append(10)\n",
    "l.append(10)\n",
    "print(l)\n",
    "l.count(10) #Returns the number of elements with the specified value."
   ]
  },
  {
   "cell_type": "code",
   "execution_count": 54,
   "id": "59a74c6d",
   "metadata": {},
   "outputs": [
    {
     "data": {
      "text/plain": [
       "['one', 'two', 'three', 'four', 'five', 'six', 7, 8, 9, 10]"
      ]
     },
     "execution_count": 54,
     "metadata": {},
     "output_type": "execute_result"
    }
   ],
   "source": [
    "l.remove(10)\n",
    "l.remove(10)\n",
    "l"
   ]
  },
  {
   "cell_type": "code",
   "execution_count": 55,
   "id": "67937189",
   "metadata": {},
   "outputs": [
    {
     "data": {
      "text/plain": [
       "['one', 'two', 'three', 'four', 'five', 'six']"
      ]
     },
     "execution_count": 55,
     "metadata": {},
     "output_type": "execute_result"
    }
   ],
   "source": [
    "l = l[:6]\n",
    "l"
   ]
  },
  {
   "cell_type": "code",
   "execution_count": 56,
   "id": "d87c8186",
   "metadata": {
    "scrolled": true
   },
   "outputs": [
    {
     "data": {
      "text/plain": [
       "['five', 'four', 'one', 'six', 'three', 'two']"
      ]
     },
     "execution_count": 56,
     "metadata": {},
     "output_type": "execute_result"
    }
   ],
   "source": [
    "l.sort() #Sort the list alphabetically, ascending by default.\n",
    "l"
   ]
  },
  {
   "cell_type": "markdown",
   "id": "b6e5f35a",
   "metadata": {},
   "source": [
    "#### Built-in Functions with List"
   ]
  },
  {
   "cell_type": "code",
   "execution_count": 57,
   "id": "81899d16",
   "metadata": {},
   "outputs": [],
   "source": [
    "a = [1, 2, 3, 4, 5,6,7,8,9,10]"
   ]
  },
  {
   "cell_type": "code",
   "execution_count": 58,
   "id": "28b37179",
   "metadata": {},
   "outputs": [
    {
     "data": {
      "text/plain": [
       "55"
      ]
     },
     "execution_count": 58,
     "metadata": {},
     "output_type": "execute_result"
    }
   ],
   "source": [
    "sum(a) #Return the sum of all elements in the list."
   ]
  },
  {
   "cell_type": "code",
   "execution_count": 59,
   "id": "09722f39",
   "metadata": {},
   "outputs": [
    {
     "data": {
      "text/plain": [
       "[10, 9, 8, 7, 6, 5, 4, 3, 2, 1]"
      ]
     },
     "execution_count": 59,
     "metadata": {},
     "output_type": "execute_result"
    }
   ],
   "source": [
    "sorted(a, reverse=True)"
   ]
  },
  {
   "cell_type": "code",
   "execution_count": 60,
   "id": "e9cb7d2c",
   "metadata": {},
   "outputs": [
    {
     "data": {
      "text/plain": [
       "10"
      ]
     },
     "execution_count": 60,
     "metadata": {},
     "output_type": "execute_result"
    }
   ],
   "source": [
    "max(a)"
   ]
  },
  {
   "cell_type": "code",
   "execution_count": 61,
   "id": "e047e9cf",
   "metadata": {},
   "outputs": [
    {
     "data": {
      "text/plain": [
       "1"
      ]
     },
     "execution_count": 61,
     "metadata": {},
     "output_type": "execute_result"
    }
   ],
   "source": [
    "min(a)"
   ]
  },
  {
   "cell_type": "code",
   "execution_count": 62,
   "id": "c482589f",
   "metadata": {},
   "outputs": [
    {
     "name": "stdout",
     "output_type": "stream",
     "text": [
      "Index: 0, Value : 1\n",
      "Index: 1, Value : 2\n",
      "Index: 2, Value : 3\n",
      "Index: 3, Value : 4\n",
      "Index: 4, Value : 5\n",
      "Index: 5, Value : 6\n",
      "Index: 6, Value : 7\n",
      "Index: 7, Value : 8\n",
      "Index: 8, Value : 9\n",
      "Index: 9, Value : 10\n"
     ]
    }
   ],
   "source": [
    "for i,j in enumerate(a):\n",
    "    print(f\"Index: {i}, Value : {j}\")"
   ]
  },
  {
   "cell_type": "markdown",
   "id": "5be43883",
   "metadata": {},
   "source": [
    "#### List comprehension\n",
    "\n",
    "- List comprehension offers a shorter syntax when you want to create a new list based on the values of an existing list."
   ]
  },
  {
   "cell_type": "code",
   "execution_count": 63,
   "id": "6f2fcdad",
   "metadata": {},
   "outputs": [
    {
     "name": "stdout",
     "output_type": "stream",
     "text": [
      "['apple', 'banana', 'mango']\n"
     ]
    }
   ],
   "source": [
    "fruits = [\"apple\", \"banana\", \"cherry\", \"kiwi\", \"mango\"]\n",
    "newlist = []\n",
    "\n",
    "for fruit in fruits:\n",
    "    if \"a\" in fruit:\n",
    "        newlist.append(fruit)\n",
    "\n",
    "print(newlist)"
   ]
  },
  {
   "cell_type": "markdown",
   "id": "01551ac5",
   "metadata": {},
   "source": [
    "With list comprehension you can do all that with only one line of code!"
   ]
  },
  {
   "cell_type": "code",
   "execution_count": 64,
   "id": "765b40e7",
   "metadata": {},
   "outputs": [
    {
     "name": "stdout",
     "output_type": "stream",
     "text": [
      "['apple', 'banana', 'mango']\n"
     ]
    }
   ],
   "source": [
    "# fruits = [\"apple\", \"banana\", \"cherry\", \"kiwi\", \"mango\"]\n",
    "\n",
    "newlist = [fruit for fruit in fruits if \"a\" in fruit]\n",
    "\n",
    "print(newlist)"
   ]
  },
  {
   "cell_type": "code",
   "execution_count": 65,
   "id": "aa447574",
   "metadata": {},
   "outputs": [
    {
     "data": {
      "text/plain": [
       "[1, 2, 3, 4, 5, 6, 7, 8, 9, 10]"
      ]
     },
     "execution_count": 65,
     "metadata": {},
     "output_type": "execute_result"
    }
   ],
   "source": [
    "[x for x in range(1,11)]"
   ]
  },
  {
   "cell_type": "code",
   "execution_count": 66,
   "id": "686b6962",
   "metadata": {},
   "outputs": [
    {
     "data": {
      "text/plain": [
       "['s', 't', 'r', 'i', 'n', 'g']"
      ]
     },
     "execution_count": 66,
     "metadata": {},
     "output_type": "execute_result"
    }
   ],
   "source": [
    "[x for x in \"string\"]"
   ]
  },
  {
   "cell_type": "code",
   "execution_count": 67,
   "id": "d81eb0de",
   "metadata": {},
   "outputs": [
    {
     "data": {
      "text/plain": [
       "[1, 'even', 3, 'even', 5, 'even', 7, 'even', 9, 'even']"
      ]
     },
     "execution_count": 67,
     "metadata": {},
     "output_type": "execute_result"
    }
   ],
   "source": [
    "# if-else in list comprehension\n",
    "\n",
    "l1 = [1,2,3,4,5,6,7,8,9,10]\n",
    "\n",
    "l2 = ['even' if x%2==0 else x for x in l1]\n",
    "\n",
    "l2\n"
   ]
  },
  {
   "cell_type": "code",
   "execution_count": 68,
   "id": "850b15b1",
   "metadata": {},
   "outputs": [
    {
     "data": {
      "text/plain": [
       "['one', 'one', 'two', 'two', 'three', 'three']"
      ]
     },
     "execution_count": 68,
     "metadata": {},
     "output_type": "execute_result"
    }
   ],
   "source": [
    "# if-elif-else in list comprehension\n",
    "\n",
    "l1 = [1,1,2,2,3,3]\n",
    "\n",
    "l2 = ['one' if x==1 else 'two' if x == 2 else 'three' for x in l1 ]\n",
    "\n",
    "l2"
   ]
  },
  {
   "cell_type": "code",
   "execution_count": 69,
   "id": "d725c417",
   "metadata": {},
   "outputs": [
    {
     "data": {
      "text/plain": [
       "[(1, 3), (1, 4), (1, 5), (2, 3), (2, 4), (2, 5)]"
      ]
     },
     "execution_count": 69,
     "metadata": {},
     "output_type": "execute_result"
    }
   ],
   "source": [
    "# nested for loops using list comprehension\n",
    "    \n",
    "l1 = [1,2]\n",
    "l2 = [3,4,5]\n",
    "\n",
    "l3 = [(i,j) for i in l1 for j in l2]\n",
    "l3"
   ]
  },
  {
   "cell_type": "code",
   "execution_count": 70,
   "id": "26611837",
   "metadata": {},
   "outputs": [
    {
     "data": {
      "text/plain": [
       "[3, 4, 5, 6, 8, 10]"
      ]
     },
     "execution_count": 70,
     "metadata": {},
     "output_type": "execute_result"
    }
   ],
   "source": [
    "[(i*j) for i in l1 for j in l2]"
   ]
  },
  {
   "cell_type": "markdown",
   "id": "7e496806",
   "metadata": {},
   "source": [
    "***"
   ]
  },
  {
   "cell_type": "markdown",
   "id": "599b4c76",
   "metadata": {},
   "source": [
    "## Dictionary\n",
    "\n",
    "* Dictionaries are used to store data values in __KEY: VALUE__ pairs.\n",
    "* A dictionary is a collection which is ordered and changeable.\n",
    "* Dictionaries cannot have two items with the same key.\n",
    "* The values in dictionary items can be of any data type."
   ]
  },
  {
   "cell_type": "code",
   "execution_count": 71,
   "id": "b92442c7",
   "metadata": {},
   "outputs": [
    {
     "name": "stdout",
     "output_type": "stream",
     "text": [
      "{}\n",
      "{1: 'apple', 2: 'banana'}\n",
      "{'name': 'David', 1: 'id', 'marks': [10, 20, 30]}\n",
      "{'name': 'David', 2: 'ball', 'marks': [10, 20, 30]}\n"
     ]
    }
   ],
   "source": [
    "# empty dictionary\n",
    "my_dict = {}\n",
    "print(my_dict)\n",
    "\n",
    "# dictionary with integer keys\n",
    "my_dict = {1: 'apple', 2: 'banana'}\n",
    "print(my_dict)\n",
    "\n",
    "# dictionary with mixed keys\n",
    "my_dict = {'name': 'David', 1:'id', 'marks': [10,20,30]}\n",
    "print(my_dict)\n",
    "\n",
    "# from sequence having each item as a pair\n",
    "my_dict = dict([('name','David'), (2,'ball'), ('marks', [10,20,30])])\n",
    "print(my_dict)"
   ]
  },
  {
   "cell_type": "code",
   "execution_count": 72,
   "id": "d4ed8027",
   "metadata": {},
   "outputs": [
    {
     "data": {
      "text/plain": [
       "dict_keys(['name', 2, 'marks'])"
      ]
     },
     "execution_count": 72,
     "metadata": {},
     "output_type": "execute_result"
    }
   ],
   "source": [
    "my_dict.keys()"
   ]
  },
  {
   "cell_type": "code",
   "execution_count": 73,
   "id": "3d9cf3aa",
   "metadata": {},
   "outputs": [
    {
     "name": "stdout",
     "output_type": "stream",
     "text": [
      "Flash\n",
      "DC\n"
     ]
    }
   ],
   "source": [
    "# Values are accessed by keys and key can be accessed either inside square brackets or with the get() method.\n",
    "\n",
    "\n",
    "my_dict = {'name':'Flash', 'age': 27, 'power':'speed', 'universe': 'DC'}\n",
    "\n",
    "\n",
    "print(my_dict['name'])\n",
    "\n",
    "print(my_dict.get('universe'))"
   ]
  },
  {
   "cell_type": "code",
   "execution_count": 74,
   "id": "be053c54",
   "metadata": {},
   "outputs": [
    {
     "name": "stdout",
     "output_type": "stream",
     "text": [
      "{'name': 'Flash', 'age': 30, 'power': 'speed', 'universe': 'DC'}\n"
     ]
    }
   ],
   "source": [
    "# update value\n",
    "my_dict['age'] = 30\n",
    "print(my_dict)"
   ]
  },
  {
   "cell_type": "code",
   "execution_count": 75,
   "id": "b51fd679",
   "metadata": {},
   "outputs": [
    {
     "name": "stdout",
     "output_type": "stream",
     "text": [
      "{'name': 'Flash', 'age': 30, 'power': 'speed', 'universe': 'DC', 'nick_name': 'Barry Allen'}\n"
     ]
    }
   ],
   "source": [
    "# add item\n",
    "my_dict['nick_name'] = 'Barry Allen'\n",
    "print(my_dict)"
   ]
  },
  {
   "cell_type": "code",
   "execution_count": 76,
   "id": "84f2addf",
   "metadata": {},
   "outputs": [
    {
     "name": "stdout",
     "output_type": "stream",
     "text": [
      "{'brand': 'Ford', 'model': 'Mustang', 'year': 2020}\n"
     ]
    }
   ],
   "source": [
    "# Duplicates Not Allowed - it will overwrite existing values:\n",
    "\n",
    "thisdict = {\n",
    "  \"brand\": \"Ford\",\n",
    "  \"model\": \"Mustang\",\n",
    "  \"year\": 1964,\n",
    "  \"year\": 2020\n",
    "}\n",
    "print(thisdict)"
   ]
  },
  {
   "cell_type": "code",
   "execution_count": 77,
   "id": "17d123b8",
   "metadata": {},
   "outputs": [
    {
     "name": "stdout",
     "output_type": "stream",
     "text": [
      "5\n",
      "3\n"
     ]
    }
   ],
   "source": [
    "print(len(my_dict))\n",
    "print(len(thisdict))"
   ]
  },
  {
   "cell_type": "code",
   "execution_count": 78,
   "id": "541f20f1",
   "metadata": {},
   "outputs": [
    {
     "name": "stdout",
     "output_type": "stream",
     "text": [
      "name\n",
      "age\n",
      "power\n",
      "universe\n",
      "nick_name\n",
      "-------\n",
      "Flash\n",
      "30\n",
      "speed\n",
      "DC\n",
      "Barry Allen\n",
      "-------\n",
      "name\n",
      "age\n",
      "power\n",
      "universe\n",
      "nick_name\n",
      "-------\n",
      "Flash\n",
      "30\n",
      "speed\n",
      "DC\n",
      "Barry Allen\n",
      "-------\n",
      "name Flash\n",
      "age 30\n",
      "power speed\n",
      "universe DC\n",
      "nick_name Barry Allen\n"
     ]
    }
   ],
   "source": [
    "# When looping through a dictionary, the return value are the keys of the dictionary, but there are methods to return the values as well.\n",
    "\n",
    "#key\n",
    "for i in my_dict:\n",
    "    print(i)\n",
    "    \n",
    "print(\"-------\")\n",
    "    \n",
    "#value\n",
    "for i in my_dict:\n",
    "    print(my_dict[i])\n",
    "    \n",
    "print(\"-------\")\n",
    "\n",
    "#key\n",
    "for i in my_dict.keys():\n",
    "    print(i)\n",
    "    \n",
    "print(\"-------\")\n",
    "\n",
    "#value\n",
    "for i in my_dict.values():\n",
    "    print(i)\n",
    "    \n",
    "print(\"-------\")\n",
    "    \n",
    "#key & value\n",
    "for i,j in my_dict.items():\n",
    "    print(i,j)"
   ]
  },
  {
   "cell_type": "markdown",
   "id": "00c80cc6",
   "metadata": {},
   "source": [
    "#### Dictionary Methods()"
   ]
  },
  {
   "cell_type": "code",
   "execution_count": 79,
   "id": "959f99b5",
   "metadata": {},
   "outputs": [
    {
     "data": {
      "text/plain": [
       "dict_keys(['name', 'age', 'power', 'universe', 'nick_name'])"
      ]
     },
     "execution_count": 79,
     "metadata": {},
     "output_type": "execute_result"
    }
   ],
   "source": [
    "my_dict.keys() #Returns a view object, view object contains the keys of the dictionary, as a list."
   ]
  },
  {
   "cell_type": "code",
   "execution_count": 80,
   "id": "2da2ae04",
   "metadata": {},
   "outputs": [
    {
     "data": {
      "text/plain": [
       "dict_values(['Flash', 30, 'speed', 'DC', 'Barry Allen'])"
      ]
     },
     "execution_count": 80,
     "metadata": {},
     "output_type": "execute_result"
    }
   ],
   "source": [
    "my_dict.values() #Returns a view object, view object contains the values of the dictionary, as a list."
   ]
  },
  {
   "cell_type": "code",
   "execution_count": 81,
   "id": "c96eb6c7",
   "metadata": {},
   "outputs": [
    {
     "data": {
      "text/plain": [
       "dict_items([('name', 'Flash'), ('age', 30), ('power', 'speed'), ('universe', 'DC'), ('nick_name', 'Barry Allen')])"
      ]
     },
     "execution_count": 81,
     "metadata": {},
     "output_type": "execute_result"
    }
   ],
   "source": [
    "my_dict.items() #Returns a view object, the view object contains the key-value pairs of the dictionary, as tuples in a list."
   ]
  },
  {
   "cell_type": "code",
   "execution_count": 82,
   "id": "49f081f2",
   "metadata": {},
   "outputs": [
    {
     "data": {
      "text/plain": [
       "{'name': 'Flash', 'age': 30, 'power': 'speed', 'universe': 'DC'}"
      ]
     },
     "execution_count": 82,
     "metadata": {},
     "output_type": "execute_result"
    }
   ],
   "source": [
    "my_dict.pop('nick_name','key not present') #Removes the specified item from the dictionary.\n",
    "my_dict"
   ]
  },
  {
   "cell_type": "code",
   "execution_count": 83,
   "id": "b2d13cf3",
   "metadata": {},
   "outputs": [
    {
     "data": {
      "text/plain": [
       "{'name': 'Flash', 'age': 30, 'power': 'speed'}"
      ]
     },
     "execution_count": 83,
     "metadata": {},
     "output_type": "execute_result"
    }
   ],
   "source": [
    "my_dict.popitem() # Removes the item that was last inserted into the dictionary.\n",
    "my_dict"
   ]
  },
  {
   "cell_type": "code",
   "execution_count": 84,
   "id": "b0fba9df",
   "metadata": {},
   "outputs": [
    {
     "data": {
      "text/plain": [
       "{'name': 'Flash',\n",
       " 'age': 30,\n",
       " 'power': 'speed',\n",
       " 'universe': 'DC',\n",
       " 'nick_name': 'Barry Allen'}"
      ]
     },
     "execution_count": 84,
     "metadata": {},
     "output_type": "execute_result"
    }
   ],
   "source": [
    "my_dict.update({'universe': 'DC', 'nick_name': 'Barry Allen'}) #It inserts the specified items to the dictionary.\n",
    "my_dict"
   ]
  },
  {
   "cell_type": "code",
   "execution_count": 85,
   "id": "9ac269f8",
   "metadata": {},
   "outputs": [
    {
     "name": "stdout",
     "output_type": "stream",
     "text": [
      "{'key1': 100, 'key2': 100, 'key3': 100}\n",
      "{'key1': None, 'key2': None, 'key3': None}\n"
     ]
    }
   ],
   "source": [
    "x = ['key1', 'key2', 'key3','key3', 'key2']\n",
    "y = 100\n",
    "\n",
    "\n",
    "print(dict.fromkeys(x,y)) #Returns a dictionary with the specified keys and the specified value. Default value is None\n",
    "\n",
    "print(dict.fromkeys(x))"
   ]
  },
  {
   "cell_type": "code",
   "execution_count": 86,
   "id": "2a22be62",
   "metadata": {},
   "outputs": [
    {
     "name": "stdout",
     "output_type": "stream",
     "text": [
      "John\n",
      "27\n",
      "Marie\n"
     ]
    }
   ],
   "source": [
    "# nested dictionary\n",
    "users = {'user1': {'name': 'John', 'age': '27', 'sex': 'Male'},'user2': {'name': 'Marie', 'age': '22', 'sex': 'Female'}}\n",
    "\n",
    "print(users['user1']['name'])\n",
    "print(users['user1']['age'])\n",
    "print(users['user2']['name'])"
   ]
  },
  {
   "cell_type": "code",
   "execution_count": 87,
   "id": "a8abeef2",
   "metadata": {},
   "outputs": [
    {
     "name": "stdout",
     "output_type": "stream",
     "text": [
      "[{'key': {'subkey': 1}}, {'key': {'subkey': 4}}, {'key': {'subkey': 7}}, {'key': {'subkey': 9}}]\n"
     ]
    }
   ],
   "source": [
    "my_list = [{'key': {'subkey': 1}}, {'key': {'subkey': 9}}, {'key': {'subkey': 4}},{'key': {'subkey': 7}}]\n",
    "\n",
    "my_list.sort(key=lambda e: e['key']['subkey'], reverse=False)\n",
    "\n",
    "print(my_list)"
   ]
  },
  {
   "cell_type": "code",
   "execution_count": 88,
   "id": "15d4c366",
   "metadata": {},
   "outputs": [
    {
     "data": {
      "text/plain": [
       "[{'key': {'subkey': 1}},\n",
       " {'key': {'subkey': 4}},\n",
       " {'key': {'subkey': 7}},\n",
       " {'key': {'subkey': 9}}]"
      ]
     },
     "execution_count": 88,
     "metadata": {},
     "output_type": "execute_result"
    }
   ],
   "source": [
    "my_list"
   ]
  },
  {
   "cell_type": "code",
   "execution_count": 89,
   "id": "61736ae4",
   "metadata": {},
   "outputs": [
    {
     "data": {
      "text/plain": [
       "'C'"
      ]
     },
     "execution_count": 89,
     "metadata": {},
     "output_type": "execute_result"
    }
   ],
   "source": [
    "d = {'key':['a','b','c']}\n",
    "d['key'][2].upper()"
   ]
  },
  {
   "cell_type": "code",
   "execution_count": 90,
   "id": "58bc0766",
   "metadata": {},
   "outputs": [
    {
     "data": {
      "text/plain": [
       "{'Flash': 'name',\n",
       " 30: 'age',\n",
       " 'speed': 'power',\n",
       " 'DC': 'universe',\n",
       " 'Barry Allen': 'nick_name'}"
      ]
     },
     "execution_count": 90,
     "metadata": {},
     "output_type": "execute_result"
    }
   ],
   "source": [
    "## Reverse a dictionary\n",
    "\n",
    "my_dict_rev = {y:x for x,y in my_dict.items()}\n",
    "my_dict_rev"
   ]
  },
  {
   "cell_type": "code",
   "execution_count": 91,
   "id": "a39987a9",
   "metadata": {},
   "outputs": [
    {
     "data": {
      "text/plain": [
       "'Flash'"
      ]
     },
     "execution_count": 91,
     "metadata": {},
     "output_type": "execute_result"
    }
   ],
   "source": [
    "# The get() method returns the value of the item with the specified key.\n",
    "\n",
    "# dictionary.get(keyname, value) -- value: value to return if the specified key is not found.\n",
    "\n",
    "my_dict.get('name')"
   ]
  },
  {
   "cell_type": "code",
   "execution_count": 92,
   "id": "786a6c97",
   "metadata": {},
   "outputs": [],
   "source": [
    "my_dict.get('height')"
   ]
  },
  {
   "cell_type": "code",
   "execution_count": 93,
   "id": "3b2e494a",
   "metadata": {
    "scrolled": true
   },
   "outputs": [
    {
     "data": {
      "text/plain": [
       "'not present'"
      ]
     },
     "execution_count": 93,
     "metadata": {},
     "output_type": "execute_result"
    }
   ],
   "source": [
    "my_dict.get('height','not present')"
   ]
  },
  {
   "cell_type": "markdown",
   "id": "0191a3e9",
   "metadata": {},
   "source": [
    "__Dictionary Methods -  https://www.w3schools.com/python/python_ref_dictionary.asp__"
   ]
  },
  {
   "cell_type": "markdown",
   "id": "f253a350",
   "metadata": {},
   "source": [
    "***"
   ]
  },
  {
   "cell_type": "markdown",
   "id": "73637f34",
   "metadata": {},
   "source": [
    "## Tuples\n",
    "\n",
    "* Tuples are similar to lists except - __IMMUTABILITY__\n",
    "* A tuple is a collection which is ordered and unchangeable.\n",
    "* Tuples are written with round brackets.\n",
    "* Once a value is inside a tuple, it can not be reassigned. "
   ]
  },
  {
   "cell_type": "code",
   "execution_count": 94,
   "id": "45b80797",
   "metadata": {},
   "outputs": [
    {
     "data": {
      "text/plain": [
       "(1, 2, 2, 2, 3, 4)"
      ]
     },
     "execution_count": 94,
     "metadata": {},
     "output_type": "execute_result"
    }
   ],
   "source": [
    "t = (1,2,2,2,3,4)\n",
    "t"
   ]
  },
  {
   "cell_type": "code",
   "execution_count": 95,
   "id": "7abe2bd9",
   "metadata": {},
   "outputs": [
    {
     "data": {
      "text/plain": [
       "1"
      ]
     },
     "execution_count": 95,
     "metadata": {},
     "output_type": "execute_result"
    }
   ],
   "source": [
    "t[0]"
   ]
  },
  {
   "cell_type": "code",
   "execution_count": 96,
   "id": "1fda3fdc",
   "metadata": {},
   "outputs": [],
   "source": [
    "#t[0]=2"
   ]
  },
  {
   "cell_type": "code",
   "execution_count": 97,
   "id": "3b2d54ee",
   "metadata": {},
   "outputs": [
    {
     "data": {
      "text/plain": [
       "3"
      ]
     },
     "execution_count": 97,
     "metadata": {},
     "output_type": "execute_result"
    }
   ],
   "source": [
    "t.count(2)"
   ]
  },
  {
   "cell_type": "code",
   "execution_count": 98,
   "id": "7fe5f480",
   "metadata": {},
   "outputs": [
    {
     "data": {
      "text/plain": [
       "4"
      ]
     },
     "execution_count": 98,
     "metadata": {},
     "output_type": "execute_result"
    }
   ],
   "source": [
    "t.index(3)"
   ]
  },
  {
   "cell_type": "code",
   "execution_count": 99,
   "id": "5a20d8cb",
   "metadata": {},
   "outputs": [
    {
     "data": {
      "text/plain": [
       "6"
      ]
     },
     "execution_count": 99,
     "metadata": {},
     "output_type": "execute_result"
    }
   ],
   "source": [
    "len(t)"
   ]
  },
  {
   "cell_type": "code",
   "execution_count": 100,
   "id": "f33c5e17",
   "metadata": {},
   "outputs": [
    {
     "data": {
      "text/plain": [
       "(1, 2, 3, 4, 'one', 'tow', 'three')"
      ]
     },
     "execution_count": 100,
     "metadata": {},
     "output_type": "execute_result"
    }
   ],
   "source": [
    "t = (1,2,3,4,'one','tow','three')\n",
    "t"
   ]
  },
  {
   "cell_type": "code",
   "execution_count": 101,
   "id": "4fea8957",
   "metadata": {},
   "outputs": [
    {
     "data": {
      "text/plain": [
       "(1, 2, 3, 4, 'one', 'tow', 'three')"
      ]
     },
     "execution_count": 101,
     "metadata": {},
     "output_type": "execute_result"
    }
   ],
   "source": [
    "# create a tuple without using round brackets\n",
    "\n",
    "t = 1,2,3,4,'one','tow','three'\n",
    "t"
   ]
  },
  {
   "cell_type": "code",
   "execution_count": 102,
   "id": "5cd43af4",
   "metadata": {},
   "outputs": [
    {
     "name": "stdout",
     "output_type": "stream",
     "text": [
      "1\n",
      "2\n",
      "3\n",
      "4\n",
      "one\n",
      "tow\n",
      "three\n"
     ]
    }
   ],
   "source": [
    "for i in t:\n",
    "    print(i)"
   ]
  },
  {
   "cell_type": "markdown",
   "id": "363784c8",
   "metadata": {},
   "source": [
    "__Tuple Methods - https://www.w3schools.com/python/python_ref_tuple.asp__"
   ]
  },
  {
   "cell_type": "markdown",
   "id": "0925250c",
   "metadata": {},
   "source": [
    "***"
   ]
  },
  {
   "cell_type": "markdown",
   "id": "dfdc0397",
   "metadata": {},
   "source": [
    "## Sets\n",
    "\n",
    "* Sets are __unordered__ ( cannot be sure in which order the items will appear)  collection of unique elements.\n",
    "* Sets are unchangeable, and do not allow duplicate values.\n"
   ]
  },
  {
   "cell_type": "code",
   "execution_count": 103,
   "id": "c6bc1b3e",
   "metadata": {},
   "outputs": [
    {
     "data": {
      "text/plain": [
       "set()"
      ]
     },
     "execution_count": 103,
     "metadata": {},
     "output_type": "execute_result"
    }
   ],
   "source": [
    "my_set = set()\n",
    "my_set"
   ]
  },
  {
   "cell_type": "code",
   "execution_count": 104,
   "id": "4132188d",
   "metadata": {},
   "outputs": [
    {
     "data": {
      "text/plain": [
       "{1}"
      ]
     },
     "execution_count": 104,
     "metadata": {},
     "output_type": "execute_result"
    }
   ],
   "source": [
    "my_set.add(1)\n",
    "my_set"
   ]
  },
  {
   "cell_type": "code",
   "execution_count": 105,
   "id": "644450d3",
   "metadata": {},
   "outputs": [
    {
     "data": {
      "text/plain": [
       "{1, 2}"
      ]
     },
     "execution_count": 105,
     "metadata": {},
     "output_type": "execute_result"
    }
   ],
   "source": [
    "my_set.add(2)\n",
    "my_set"
   ]
  },
  {
   "cell_type": "code",
   "execution_count": 106,
   "id": "740fc06c",
   "metadata": {},
   "outputs": [
    {
     "data": {
      "text/plain": [
       "{1, 2}"
      ]
     },
     "execution_count": 106,
     "metadata": {},
     "output_type": "execute_result"
    }
   ],
   "source": [
    "# it won't repeat - unique values\n",
    "my_set.add(2)\n",
    "my_set"
   ]
  },
  {
   "cell_type": "code",
   "execution_count": 107,
   "id": "9011df35",
   "metadata": {},
   "outputs": [
    {
     "data": {
      "text/plain": [
       "{1, 2, 3, 4, 5, 6}"
      ]
     },
     "execution_count": 107,
     "metadata": {},
     "output_type": "execute_result"
    }
   ],
   "source": [
    "l = [1,1,1,1,1,2,2,2,2,2,3,3,3,3,4,5,6]\n",
    "s = set(l)\n",
    "s"
   ]
  },
  {
   "cell_type": "markdown",
   "id": "53624c57",
   "metadata": {},
   "source": [
    "#### Sets Methods()"
   ]
  },
  {
   "cell_type": "code",
   "execution_count": 108,
   "id": "a42636d2",
   "metadata": {},
   "outputs": [
    {
     "data": {
      "text/plain": [
       "{1, 2, 3}"
      ]
     },
     "execution_count": 108,
     "metadata": {},
     "output_type": "execute_result"
    }
   ],
   "source": [
    "#Returns a set containing items that exist only in the first set, and not in both sets.\n",
    "\n",
    "s1 = {1,2,3,4,5}\n",
    "\n",
    "s2 = {4,5,6,7,8}\n",
    "\n",
    "s1.difference(s2)"
   ]
  },
  {
   "cell_type": "code",
   "execution_count": 109,
   "id": "25abf212",
   "metadata": {},
   "outputs": [
    {
     "data": {
      "text/plain": [
       "{4, 5}"
      ]
     },
     "execution_count": 109,
     "metadata": {},
     "output_type": "execute_result"
    }
   ],
   "source": [
    "# Returns a set that contains the similarity between two or more sets.\n",
    "s1.intersection(s2)"
   ]
  },
  {
   "cell_type": "code",
   "execution_count": 110,
   "id": "f052a965",
   "metadata": {},
   "outputs": [
    {
     "data": {
      "text/plain": [
       "{1, 2, 3, 4, 5, 6, 7, 8}"
      ]
     },
     "execution_count": 110,
     "metadata": {},
     "output_type": "execute_result"
    }
   ],
   "source": [
    "#Returns a set that contains all items from the original set, and all items from the specified set(s).\n",
    "s1.union(s2)"
   ]
  },
  {
   "cell_type": "code",
   "execution_count": 111,
   "id": "fbd13f6a",
   "metadata": {},
   "outputs": [
    {
     "data": {
      "text/plain": [
       "1"
      ]
     },
     "execution_count": 111,
     "metadata": {},
     "output_type": "execute_result"
    }
   ],
   "source": [
    "#Removes a random item from the set.\n",
    "\n",
    "s1.pop()"
   ]
  },
  {
   "cell_type": "code",
   "execution_count": 112,
   "id": "63f8e8f6",
   "metadata": {},
   "outputs": [
    {
     "data": {
      "text/plain": [
       "{2, 3, 4, 5}"
      ]
     },
     "execution_count": 112,
     "metadata": {},
     "output_type": "execute_result"
    }
   ],
   "source": [
    "s1"
   ]
  },
  {
   "cell_type": "code",
   "execution_count": 113,
   "id": "fd7a5493",
   "metadata": {},
   "outputs": [
    {
     "data": {
      "text/plain": [
       "{2, 3, 5}"
      ]
     },
     "execution_count": 113,
     "metadata": {},
     "output_type": "execute_result"
    }
   ],
   "source": [
    "#Removes the specified element from the set.\n",
    "s1.remove(4)\n",
    "s1"
   ]
  },
  {
   "cell_type": "code",
   "execution_count": 114,
   "id": "84b9800b",
   "metadata": {},
   "outputs": [],
   "source": [
    "#Removes the specified element from the set.\n",
    "s1.discard(4)"
   ]
  },
  {
   "cell_type": "markdown",
   "id": "ec0bf338",
   "metadata": {},
   "source": [
    "###### This method is different from the remove() method, because the remove() method will raise an error if the specified item does not exist, and the discard() method will not."
   ]
  },
  {
   "cell_type": "code",
   "execution_count": 115,
   "id": "6fe9824b",
   "metadata": {},
   "outputs": [
    {
     "data": {
      "text/plain": [
       "{'a', 'e', 'l', 'p', 'r'}"
      ]
     },
     "execution_count": 115,
     "metadata": {},
     "output_type": "execute_result"
    }
   ],
   "source": [
    "set('parallel')"
   ]
  },
  {
   "cell_type": "code",
   "execution_count": 116,
   "id": "54d67104",
   "metadata": {},
   "outputs": [
    {
     "data": {
      "text/plain": [
       "{'M', 'i', 'p', 's'}"
      ]
     },
     "execution_count": 116,
     "metadata": {},
     "output_type": "execute_result"
    }
   ],
   "source": [
    "set('Mississippi')"
   ]
  },
  {
   "cell_type": "markdown",
   "id": "01921c47",
   "metadata": {},
   "source": [
    "__Set Methods - https://www.w3schools.com/python/python_ref_set.asp__"
   ]
  }
 ],
 "metadata": {
  "kernelspec": {
   "display_name": "Python 3 (ipykernel)",
   "language": "python",
   "name": "python3"
  },
  "language_info": {
   "codemirror_mode": {
    "name": "ipython",
    "version": 3
   },
   "file_extension": ".py",
   "mimetype": "text/x-python",
   "name": "python",
   "nbconvert_exporter": "python",
   "pygments_lexer": "ipython3",
   "version": "3.9.13"
  }
 },
 "nbformat": 4,
 "nbformat_minor": 5
}
