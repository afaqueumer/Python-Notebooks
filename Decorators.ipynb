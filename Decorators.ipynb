{
 "cells": [
  {
   "cell_type": "markdown",
   "id": "23dcb366",
   "metadata": {},
   "source": [
    "## Decorators\n",
    "\n",
    "\n",
    "A decorator is a design pattern in Python that allows a user to add new functionality to an existing object without modifying \n",
    "its structure. Decorators are usually called before the definition of a function you want to decorate. \n",
    "\n",
    "But befor going for decorators, we need to understand the functions and why it;s called the `First Class Citizens`"
   ]
  },
  {
   "cell_type": "markdown",
   "id": "1d453365",
   "metadata": {},
   "source": [
    "#### Functions --> First classs Citizens/Objects\n",
    "\n",
    "In Python, functions are first class objects which means that functions in Python can be used or passed as arguments.\n",
    "Properties of first class functions:\n",
    "\n",
    "* A function is an instance of the Object type.\n",
    "* You can store the function in a variable.\n",
    "* You can pass the function as a parameter to another function.\n",
    "* You can return the function from a function.\n",
    "* You can store them in data structures such as hash tables, lists, etc\n",
    "\n",
    "We will through examples to see these behaviour."
   ]
  },
  {
   "cell_type": "markdown",
   "id": "8222cf11",
   "metadata": {},
   "source": [
    "__Treating the functions as objects__\n",
    "\n",
    "    We will create a function that will greet to a name whenever it is called. We'll then assign the function to a variable and use this variable to call the function."
   ]
  },
  {
   "cell_type": "code",
   "execution_count": 1,
   "id": "d4d7a4eb",
   "metadata": {},
   "outputs": [],
   "source": [
    "# Let's create a function hello\n",
    "def hello(name):\n",
    "    print(f\"Hello {name} 👻\")"
   ]
  },
  {
   "cell_type": "code",
   "execution_count": 2,
   "id": "e21f6221",
   "metadata": {},
   "outputs": [],
   "source": [
    "# pass this function as a varibale to another variable. Treating the functions as objects\n",
    "greet = hello"
   ]
  },
  {
   "cell_type": "code",
   "execution_count": 3,
   "id": "75aa96c1",
   "metadata": {},
   "outputs": [
    {
     "name": "stdout",
     "output_type": "stream",
     "text": [
      "Hello Goku 👻\n"
     ]
    }
   ],
   "source": [
    "greet(\"Goku\")"
   ]
  },
  {
   "cell_type": "code",
   "execution_count": 4,
   "id": "ba174ddf",
   "metadata": {},
   "outputs": [
    {
     "name": "stdout",
     "output_type": "stream",
     "text": [
      "<function hello at 0x000001BCC7AAAC10>\n"
     ]
    }
   ],
   "source": [
    "# In memory it is stored at some location\n",
    "print(hello)"
   ]
  },
  {
   "cell_type": "code",
   "execution_count": 5,
   "id": "0b834964",
   "metadata": {},
   "outputs": [
    {
     "name": "stdout",
     "output_type": "stream",
     "text": [
      "<function hello at 0x000001BCC7AAAC10>\n"
     ]
    }
   ],
   "source": [
    "# Python is smart enough, it doesn't create new location\n",
    "print(greet)"
   ]
  },
  {
   "cell_type": "code",
   "execution_count": 6,
   "id": "197b0120",
   "metadata": {},
   "outputs": [
    {
     "name": "stdout",
     "output_type": "stream",
     "text": [
      "1910315330576\n",
      "1910315330576\n"
     ]
    }
   ],
   "source": [
    "if id(greet) == id(hello):\n",
    "    print(id(greet))\n",
    "    print(id(hello))"
   ]
  },
  {
   "cell_type": "markdown",
   "id": "ce588b77",
   "metadata": {},
   "source": [
    "    In the above code, we have assigned greet = hello, which means the greet function will refer to the same object because Python allocated the same object reference to new variable if the object is already exists with the same value."
   ]
  },
  {
   "cell_type": "code",
   "execution_count": 7,
   "id": "86a96ca4",
   "metadata": {},
   "outputs": [],
   "source": [
    "del hello"
   ]
  },
  {
   "cell_type": "code",
   "execution_count": 8,
   "id": "978ba427",
   "metadata": {},
   "outputs": [],
   "source": [
    "#This will throw an error since  hello varibale is deleted from memory, \n",
    "# but function is preserved since greet was referring to same object\n",
    "# if id(greet) == id(hello):\n",
    "#     print(id(greet))\n",
    "#     print(id(hello))"
   ]
  },
  {
   "cell_type": "markdown",
   "id": "5f9f2fc2",
   "metadata": {},
   "source": [
    "   Note: Even if we delete the hello func, greet will still be pointing to the same function and location. Hence, Functions in python act just like variables - `First Class Citizen`"
   ]
  },
  {
   "cell_type": "markdown",
   "id": "2ad0dc17",
   "metadata": {},
   "source": [
    "__Passing the function as an argument__"
   ]
  },
  {
   "cell_type": "code",
   "execution_count": 9,
   "id": "683c23f2",
   "metadata": {},
   "outputs": [],
   "source": [
    "def hello():\n",
    "    return 'Hello Alien 👽'\n",
    "\n",
    "def greet(func):\n",
    "    print('This is greet function code-block')\n",
    "    print('Now executing hello() function within greet() 👇')\n",
    "    print(func())\n",
    "    print('This is greet function code-block again!!')"
   ]
  },
  {
   "cell_type": "code",
   "execution_count": 10,
   "id": "b8b01612",
   "metadata": {
    "scrolled": true
   },
   "outputs": [
    {
     "name": "stdout",
     "output_type": "stream",
     "text": [
      "This is greet function code-block\n",
      "Now executing hello() function within greet() 👇\n",
      "Hello Alien 👽\n",
      "This is greet function code-block again!!\n"
     ]
    }
   ],
   "source": [
    "greet(hello)"
   ]
  },
  {
   "cell_type": "markdown",
   "id": "d9193d06",
   "metadata": {},
   "source": [
    "__Returning the function__"
   ]
  },
  {
   "cell_type": "code",
   "execution_count": 11,
   "id": "b8047b28",
   "metadata": {},
   "outputs": [],
   "source": [
    "def parent(n):\n",
    "        \n",
    "    def child_1():\n",
    "        print('This is child_1() code-block')\n",
    "    \n",
    "    def child_2():\n",
    "        print('This is child_2() code-block')\n",
    "    \n",
    "    if n == 1:\n",
    "        return child_1\n",
    "    \n",
    "    elif n == 2:\n",
    "        return child_2\n",
    "    \n",
    "    else:\n",
    "        return \"No children found!!\""
   ]
  },
  {
   "cell_type": "code",
   "execution_count": 12,
   "id": "5bf680ee",
   "metadata": {},
   "outputs": [
    {
     "name": "stdout",
     "output_type": "stream",
     "text": [
      "<function parent.<locals>.child_1 at 0x000001BCC7AD7310>\n",
      "<function parent.<locals>.child_2 at 0x000001BCC7AD7310>\n",
      "No children found!!\n"
     ]
    }
   ],
   "source": [
    "print(parent(1)) #returns a function\n",
    "print(parent(2)) #returns a function\n",
    "print(parent(3))"
   ]
  },
  {
   "cell_type": "code",
   "execution_count": 13,
   "id": "9e79a9a0",
   "metadata": {},
   "outputs": [
    {
     "name": "stdout",
     "output_type": "stream",
     "text": [
      "This is child_1() code-block\n"
     ]
    }
   ],
   "source": [
    "f = parent(1)\n",
    "f()"
   ]
  },
  {
   "cell_type": "markdown",
   "id": "50697952",
   "metadata": {},
   "source": [
    "__Note:__\n",
    "\n",
    "In the if/elif clause we are returning `child_1` and `child_2`, not `child_1()` and `child_2()`.\n",
    "\n",
    "This is because when you put a pair of parentheses after it, the function gets executed; whereas if you don’t put parentheses after it, then it can be passed around and can be assigned to other variables without executing it."
   ]
  },
  {
   "cell_type": "markdown",
   "id": "01098198",
   "metadata": {},
   "source": [
    "## Creating Decorators"
   ]
  },
  {
   "cell_type": "code",
   "execution_count": 14,
   "id": "53c292db",
   "metadata": {},
   "outputs": [],
   "source": [
    "def decorator_func(func):\n",
    "\n",
    "    def wrap_func():\n",
    "        print(\"Some Code block of wrap_func() can go here\")\n",
    "        print('Now executing function that is in need of decorator 👇')\n",
    "        print()\n",
    "        func()\n",
    "        print()\n",
    "        print('Finished executing function that is in need of decorator 👆')\n",
    "        print(\"Some Code block of wrap_func() can go here\")\n",
    "\n",
    "    return wrap_func"
   ]
  },
  {
   "cell_type": "code",
   "execution_count": 15,
   "id": "d7d38019",
   "metadata": {},
   "outputs": [],
   "source": [
    "def func_being_decorated():\n",
    "    print(\"This code block is from function_being_decorated()\")"
   ]
  },
  {
   "cell_type": "code",
   "execution_count": 16,
   "id": "a3f649c7",
   "metadata": {},
   "outputs": [
    {
     "name": "stdout",
     "output_type": "stream",
     "text": [
      "This code block is from function_being_decorated()\n"
     ]
    }
   ],
   "source": [
    "# This will be executed as expected\n",
    "func_being_decorated()"
   ]
  },
  {
   "cell_type": "code",
   "execution_count": 17,
   "id": "0b77b1b7",
   "metadata": {},
   "outputs": [],
   "source": [
    "#This will pass the function to decorator_func --> wrap_func(), which will modify it and return the modified func\n",
    "func_being_decorated = decorator_func(func_being_decorated)"
   ]
  },
  {
   "cell_type": "code",
   "execution_count": 18,
   "id": "88799082",
   "metadata": {},
   "outputs": [
    {
     "name": "stdout",
     "output_type": "stream",
     "text": [
      "Some Code block of wrap_func() can go here\n",
      "Now executing function that is in need of decorator 👇\n",
      "\n",
      "This code block is from function_being_decorated()\n",
      "\n",
      "Finished executing function that is in need of decorator 👆\n",
      "Some Code block of wrap_func() can go here\n"
     ]
    }
   ],
   "source": [
    "#Now the function is decorated\n",
    "func_being_decorated()"
   ]
  },
  {
   "cell_type": "markdown",
   "id": "e35244a6",
   "metadata": {},
   "source": [
    "_Note_ :\n",
    "    Since we are returning a function, we can store it in a different variable also, if you want to preserve the original function. "
   ]
  },
  {
   "cell_type": "code",
   "execution_count": 19,
   "id": "302ab79d",
   "metadata": {
    "scrolled": true
   },
   "outputs": [
    {
     "name": "stdout",
     "output_type": "stream",
     "text": [
      "Some Code block of wrap_func() can go here\n",
      "Now executing function that is in need of decorator 👇\n",
      "\n",
      "Some Code block of wrap_func() can go here\n",
      "Now executing function that is in need of decorator 👇\n",
      "\n",
      "This code block is from function_being_decorated()\n",
      "\n",
      "Finished executing function that is in need of decorator 👆\n",
      "Some Code block of wrap_func() can go here\n",
      "\n",
      "Finished executing function that is in need of decorator 👆\n",
      "Some Code block of wrap_func() can go here\n"
     ]
    }
   ],
   "source": [
    "decorated_func = decorator_func(func_being_decorated)\n",
    "decorated_func()"
   ]
  },
  {
   "cell_type": "markdown",
   "id": "ccb9669e",
   "metadata": {},
   "source": [
    "__So, we built a decorator function manually, but we can use the `@` symbol along with the name of the decorator function and \n",
    "place it above the definition of the function that needs be decorated.__ \n",
    "\n",
    "__The above code can be re-written as below__"
   ]
  },
  {
   "cell_type": "code",
   "execution_count": 20,
   "id": "76b5b382",
   "metadata": {},
   "outputs": [],
   "source": [
    "@decorator_func\n",
    "def func_being_decorated():\n",
    "    print(\"This code block is from function_being_decorated()\")"
   ]
  },
  {
   "cell_type": "code",
   "execution_count": 21,
   "id": "8569d36e",
   "metadata": {
    "scrolled": true
   },
   "outputs": [
    {
     "name": "stdout",
     "output_type": "stream",
     "text": [
      "Some Code block of wrap_func() can go here\n",
      "Now executing function that is in need of decorator 👇\n",
      "\n",
      "This code block is from function_being_decorated()\n",
      "\n",
      "Finished executing function that is in need of decorator 👆\n",
      "Some Code block of wrap_func() can go here\n"
     ]
    }
   ],
   "source": [
    "func_being_decorated()"
   ]
  },
  {
   "cell_type": "markdown",
   "id": "6c513c54",
   "metadata": {},
   "source": [
    "__NOTE__ : Passing arguments/parameters inside ddecorators is given in args/kwargs notebook"
   ]
  },
  {
   "cell_type": "markdown",
   "id": "fc0a4e0d",
   "metadata": {},
   "source": [
    " #### Summary:\n",
    "    \n",
    "    In Decorators, functions are taken as the argument into another function and then called inside the wrapper function. It is decorated/modified and then returned/executed."
   ]
  }
 ],
 "metadata": {
  "kernelspec": {
   "display_name": "Python 3 (ipykernel)",
   "language": "python",
   "name": "python3"
  },
  "language_info": {
   "codemirror_mode": {
    "name": "ipython",
    "version": 3
   },
   "file_extension": ".py",
   "mimetype": "text/x-python",
   "name": "python",
   "nbconvert_exporter": "python",
   "pygments_lexer": "ipython3",
   "version": "3.9.13"
  }
 },
 "nbformat": 4,
 "nbformat_minor": 5
}
