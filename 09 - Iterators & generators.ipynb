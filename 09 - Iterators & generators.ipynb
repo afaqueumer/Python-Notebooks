{
 "cells": [
  {
   "cell_type": "markdown",
   "id": "df811076",
   "metadata": {},
   "source": [
    "# Iterables, Iterators & Generators 🎯"
   ]
  },
  {
   "cell_type": "markdown",
   "id": "6a20580e",
   "metadata": {},
   "source": [
    "## Iterators\n",
    "\n",
    "### What's an Iterable?\n",
    "\n",
    "* Iterable is an object which can be looped over or iterated over with the help of a for loop.\n",
    "* An object is called iterable if we can get an iterator from it. \n",
    "* Most built-in containers in Python like: list, tuple, string etc. are iterables.\n",
    "\n",
    "### What's an Iterator?\n",
    "\n",
    "* An iterator is an object that contains a `countable` number of values.\n",
    "\n",
    "* An iterator is an object that can be iterated upon, meaning that you can `traverse` through all the values.\n",
    "\n",
    "* An iterator is an object which implements the iterator protocol, which consist of the methods __`iter`__() and __`next`__()."
   ]
  },
  {
   "cell_type": "code",
   "execution_count": 1,
   "id": "4d6de86b",
   "metadata": {},
   "outputs": [],
   "source": [
    "superheroes = [\"Batman\", \"Superman\", \"Iron-Man\", \"Flash\"]\n",
    "sup_iter = iter(superheroes)"
   ]
  },
  {
   "cell_type": "code",
   "execution_count": 2,
   "id": "5246aa43",
   "metadata": {},
   "outputs": [
    {
     "data": {
      "text/plain": [
       "list_iterator"
      ]
     },
     "execution_count": 2,
     "metadata": {},
     "output_type": "execute_result"
    }
   ],
   "source": [
    "type(sup_iter)"
   ]
  },
  {
   "cell_type": "code",
   "execution_count": 3,
   "id": "a10cf900",
   "metadata": {},
   "outputs": [
    {
     "data": {
      "text/plain": [
       "'Batman'"
      ]
     },
     "execution_count": 3,
     "metadata": {},
     "output_type": "execute_result"
    }
   ],
   "source": [
    "next(sup_iter)"
   ]
  },
  {
   "cell_type": "code",
   "execution_count": 4,
   "id": "6d0a48b1",
   "metadata": {},
   "outputs": [
    {
     "data": {
      "text/plain": [
       "'Superman'"
      ]
     },
     "execution_count": 4,
     "metadata": {},
     "output_type": "execute_result"
    }
   ],
   "source": [
    "next(sup_iter)"
   ]
  },
  {
   "cell_type": "code",
   "execution_count": 5,
   "id": "daad1858",
   "metadata": {
    "scrolled": true
   },
   "outputs": [
    {
     "data": {
      "text/plain": [
       "'Iron-Man'"
      ]
     },
     "execution_count": 5,
     "metadata": {},
     "output_type": "execute_result"
    }
   ],
   "source": [
    "next(sup_iter)"
   ]
  },
  {
   "cell_type": "code",
   "execution_count": 6,
   "id": "36bb205c",
   "metadata": {},
   "outputs": [
    {
     "data": {
      "text/plain": [
       "'Flash'"
      ]
     },
     "execution_count": 6,
     "metadata": {},
     "output_type": "execute_result"
    }
   ],
   "source": [
    "next(sup_iter)"
   ]
  },
  {
   "cell_type": "code",
   "execution_count": 7,
   "id": "1e3f80fa",
   "metadata": {},
   "outputs": [
    {
     "ename": "StopIteration",
     "evalue": "",
     "output_type": "error",
     "traceback": [
      "\u001b[1;31m---------------------------------------------------------------------------\u001b[0m",
      "\u001b[1;31mStopIteration\u001b[0m                             Traceback (most recent call last)",
      "Cell \u001b[1;32mIn [7], line 1\u001b[0m\n\u001b[1;32m----> 1\u001b[0m \u001b[38;5;28mnext\u001b[39m(sup_iter)\n",
      "\u001b[1;31mStopIteration\u001b[0m: "
     ]
    }
   ],
   "source": [
    "next(sup_iter)"
   ]
  },
  {
   "cell_type": "markdown",
   "id": "decf5aaf",
   "metadata": {},
   "source": [
    "__`Note`: To deal with 👆 problem, We can use a for loop to iterate through an iterable object.__ \n",
    "\n",
    "* `for loop` creates an iterator object, iter_obj by calling `iter()` on the iterable.\n",
    "* It keeps calling `next()` to get the next element and executes the body of the for loop.\n",
    "* When `StopIteration` exception is raised the loop ends. It works something like this 👇.\n",
    "\n",
    "\n",
    "    while True:\n",
    "        try:\n",
    "            # get the next item\n",
    "            element = next(iter_obj)\n",
    "            # do something with element\n",
    "        except StopIteration:\n",
    "            # if StopIteration is raised, break from loop\n",
    "            break"
   ]
  },
  {
   "cell_type": "code",
   "execution_count": 8,
   "id": "2d44dcd4",
   "metadata": {},
   "outputs": [
    {
     "name": "stdout",
     "output_type": "stream",
     "text": [
      "Batman\n",
      "Superman\n",
      "Iron-Man\n",
      "Flash\n"
     ]
    }
   ],
   "source": [
    "for i in superheroes:\n",
    "    print(i)"
   ]
  },
  {
   "cell_type": "markdown",
   "id": "1803d459",
   "metadata": {},
   "source": [
    "<br/>"
   ]
  },
  {
   "cell_type": "markdown",
   "id": "1e7e774d",
   "metadata": {},
   "source": [
    "## Generators\n",
    "\n",
    "\n",
    "* Generator allows us to generate a sequence of values over time.\n",
    "* Python's generator functions are used to create iterators(which can be traversed like list, tuple) and return a traversal object. It helps to transverse all the items one at a time present in the iterator.\n",
    "\n",
    "\n",
    "### Generator function vs Normal function\n",
    "\n",
    "* Generator functions are defined as the normal function, but to identify the difference between the normal function and generator function is that in the normal function, we use the `return` keyword to return the values, and in the generator function, instead of using the return, we use `yield` to execute our iterator.\n",
    "\n",
    "* The difference is that while a `return statement terminates` a function entirely, `yield statement pauses` the function saving all its states and later continues from there on successive calls.\n",
    "\n",
    "* `Yield` keyword in Python that is used to return from the function without destroying the state of a local variable.\n",
    "* `Yield` keyword pauses the function and comes back to it when it encounters a `next keyword`. As such it hold only the most recent value of the iterable in the memory. `next( )` can be called until the range provided in our generator function expires. Just as the range expires, our code will throw a `Stop Iteration Error`."
   ]
  },
  {
   "cell_type": "code",
   "execution_count": 9,
   "id": "1c80861b",
   "metadata": {},
   "outputs": [],
   "source": [
    "def normal_func(n):\n",
    "    l = []\n",
    "    for i in range(n):\n",
    "        l.append(i)\n",
    "    return l"
   ]
  },
  {
   "cell_type": "code",
   "execution_count": 10,
   "id": "39da0180",
   "metadata": {},
   "outputs": [
    {
     "data": {
      "text/plain": [
       "[0, 1, 2, 3, 4]"
      ]
     },
     "execution_count": 10,
     "metadata": {},
     "output_type": "execute_result"
    }
   ],
   "source": [
    "normal_func(5)"
   ]
  },
  {
   "cell_type": "code",
   "execution_count": 11,
   "id": "bd755b20",
   "metadata": {},
   "outputs": [
    {
     "name": "stdout",
     "output_type": "stream",
     "text": [
      "0\n",
      "1\n",
      "2\n",
      "3\n",
      "4\n"
     ]
    }
   ],
   "source": [
    "for i in normal_func(5):\n",
    "    print(i)"
   ]
  },
  {
   "cell_type": "markdown",
   "id": "6382686c",
   "metadata": {},
   "source": [
    "👆 The normal function returns a sequence of items, but before giving the result, it creates a sequence in memory and then gives us the result. `NOT SO MEMORY EFFICIENT` !!!"
   ]
  },
  {
   "cell_type": "markdown",
   "id": "e3461d88",
   "metadata": {},
   "source": [
    "👇 Generator Functions are memory efficient, as they save a lot of memory, generator function produces one output at a time."
   ]
  },
  {
   "cell_type": "code",
   "execution_count": 12,
   "id": "182ba08b",
   "metadata": {},
   "outputs": [],
   "source": [
    "def generator_func(n):\n",
    "    for i in range(n):\n",
    "        yield i"
   ]
  },
  {
   "cell_type": "code",
   "execution_count": 13,
   "id": "95add5a0",
   "metadata": {
    "scrolled": true
   },
   "outputs": [
    {
     "data": {
      "text/plain": [
       "<generator object generator_func at 0x00000277EECEC3C0>"
      ]
     },
     "execution_count": 13,
     "metadata": {},
     "output_type": "execute_result"
    }
   ],
   "source": [
    "generator_func(5)"
   ]
  },
  {
   "cell_type": "markdown",
   "id": "10a23793",
   "metadata": {},
   "source": [
    "So a generator function returns an `generator object` that is iterable, i.e., can be used as an `Iterators` . \n",
    "\n",
    "We can iterate over the generator object using `next` keyword.\n",
    "\n",
    "Methods like `__iter__()`and `__next__()` are implemented automatically. So we can iterate through the items using `next()`.\n",
    "\n",
    "Local `variables and their states` are remembered between successive calls.\n",
    "When the generator function is terminated, `StopIteration` is called automatically on further calls."
   ]
  },
  {
   "cell_type": "code",
   "execution_count": 14,
   "id": "6a5365c5",
   "metadata": {},
   "outputs": [
    {
     "data": {
      "text/plain": [
       "<generator object generator_func at 0x00000277EECEC510>"
      ]
     },
     "execution_count": 14,
     "metadata": {},
     "output_type": "execute_result"
    }
   ],
   "source": [
    "f = generator_func(5)\n",
    "f"
   ]
  },
  {
   "cell_type": "markdown",
   "id": "f00e03a0",
   "metadata": {},
   "source": [
    "The function `generator_func` will run 5 times, and when it is called using `next()` for the 6th time, it will show an error `StopIteration`."
   ]
  },
  {
   "cell_type": "code",
   "execution_count": 15,
   "id": "923aec8d",
   "metadata": {},
   "outputs": [
    {
     "name": "stdout",
     "output_type": "stream",
     "text": [
      "0\n"
     ]
    }
   ],
   "source": [
    "print(next(f))"
   ]
  },
  {
   "cell_type": "code",
   "execution_count": 16,
   "id": "38b4ac08",
   "metadata": {},
   "outputs": [
    {
     "name": "stdout",
     "output_type": "stream",
     "text": [
      "1\n"
     ]
    }
   ],
   "source": [
    "print(next(f))"
   ]
  },
  {
   "cell_type": "code",
   "execution_count": 17,
   "id": "44069b7d",
   "metadata": {},
   "outputs": [
    {
     "name": "stdout",
     "output_type": "stream",
     "text": [
      "2\n"
     ]
    }
   ],
   "source": [
    "print(next(f))"
   ]
  },
  {
   "cell_type": "code",
   "execution_count": 18,
   "id": "bf092e0b",
   "metadata": {},
   "outputs": [
    {
     "name": "stdout",
     "output_type": "stream",
     "text": [
      "3\n"
     ]
    }
   ],
   "source": [
    "print(next(f))"
   ]
  },
  {
   "cell_type": "code",
   "execution_count": 19,
   "id": "635b6530",
   "metadata": {},
   "outputs": [
    {
     "name": "stdout",
     "output_type": "stream",
     "text": [
      "4\n"
     ]
    }
   ],
   "source": [
    "print(next(f))"
   ]
  },
  {
   "cell_type": "code",
   "execution_count": 20,
   "id": "90d0425a",
   "metadata": {
    "scrolled": true
   },
   "outputs": [
    {
     "ename": "StopIteration",
     "evalue": "",
     "output_type": "error",
     "traceback": [
      "\u001b[1;31m---------------------------------------------------------------------------\u001b[0m",
      "\u001b[1;31mStopIteration\u001b[0m                             Traceback (most recent call last)",
      "Cell \u001b[1;32mIn [20], line 1\u001b[0m\n\u001b[1;32m----> 1\u001b[0m \u001b[38;5;28mprint\u001b[39m(\u001b[38;5;28mnext\u001b[39m(f))\n",
      "\u001b[1;31mStopIteration\u001b[0m: "
     ]
    }
   ],
   "source": [
    "print(next(f))"
   ]
  },
  {
   "cell_type": "markdown",
   "id": "7a04203d",
   "metadata": {},
   "source": [
    "### Generator Expression: \n",
    "\n",
    "Like `List Comprehension`,  Generator Expression is a short-hand form for creating a `Generator function`.\n",
    "\n",
    "Instead of using square brackets `[ ]`, it uses round brackets `( )`."
   ]
  },
  {
   "cell_type": "code",
   "execution_count": 21,
   "id": "a2a34624",
   "metadata": {},
   "outputs": [
    {
     "data": {
      "text/plain": [
       "[0, 2, 4, 6, 8]"
      ]
     },
     "execution_count": 21,
     "metadata": {},
     "output_type": "execute_result"
    }
   ],
   "source": [
    "[i for i in range(10) if i%2==0] # List comprehension"
   ]
  },
  {
   "cell_type": "code",
   "execution_count": 22,
   "id": "2ff9660a",
   "metadata": {},
   "outputs": [
    {
     "ename": "SyntaxError",
     "evalue": "unmatched ']' (745993026.py, line 1)",
     "output_type": "error",
     "traceback": [
      "\u001b[1;36m  Cell \u001b[1;32mIn [22], line 1\u001b[1;36m\u001b[0m\n\u001b[1;33m    i for i in range(10) if i%2==0]\u001b[0m\n\u001b[1;37m                                  ^\u001b[0m\n\u001b[1;31mSyntaxError\u001b[0m\u001b[1;31m:\u001b[0m unmatched ']'\n"
     ]
    }
   ],
   "source": [
    "i for i in range(10) if i%2==0]"
   ]
  },
  {
   "cell_type": "code",
   "execution_count": 23,
   "id": "a9fa7126",
   "metadata": {},
   "outputs": [],
   "source": [
    "g = (i for i in range(10) if i%2==0)"
   ]
  },
  {
   "cell_type": "code",
   "execution_count": 24,
   "id": "65c6f737",
   "metadata": {},
   "outputs": [
    {
     "data": {
      "text/plain": [
       "0"
      ]
     },
     "execution_count": 24,
     "metadata": {},
     "output_type": "execute_result"
    }
   ],
   "source": [
    "next(g)"
   ]
  },
  {
   "cell_type": "code",
   "execution_count": 25,
   "id": "9b5b1d23",
   "metadata": {},
   "outputs": [
    {
     "data": {
      "text/plain": [
       "2"
      ]
     },
     "execution_count": 25,
     "metadata": {},
     "output_type": "execute_result"
    }
   ],
   "source": [
    "next(g)"
   ]
  },
  {
   "cell_type": "code",
   "execution_count": 26,
   "id": "dd478501",
   "metadata": {},
   "outputs": [
    {
     "data": {
      "text/plain": [
       "4"
      ]
     },
     "execution_count": 26,
     "metadata": {},
     "output_type": "execute_result"
    }
   ],
   "source": [
    "next(g)"
   ]
  },
  {
   "cell_type": "code",
   "execution_count": 27,
   "id": "71935f84",
   "metadata": {},
   "outputs": [
    {
     "data": {
      "text/plain": [
       "6"
      ]
     },
     "execution_count": 27,
     "metadata": {},
     "output_type": "execute_result"
    }
   ],
   "source": [
    "next(g)"
   ]
  },
  {
   "cell_type": "code",
   "execution_count": 28,
   "id": "ce0648b8",
   "metadata": {},
   "outputs": [
    {
     "data": {
      "text/plain": [
       "8"
      ]
     },
     "execution_count": 28,
     "metadata": {},
     "output_type": "execute_result"
    }
   ],
   "source": [
    "next(g)"
   ]
  },
  {
   "cell_type": "code",
   "execution_count": 29,
   "id": "a34cb2b1",
   "metadata": {},
   "outputs": [
    {
     "ename": "StopIteration",
     "evalue": "",
     "output_type": "error",
     "traceback": [
      "\u001b[1;31m---------------------------------------------------------------------------\u001b[0m",
      "\u001b[1;31mStopIteration\u001b[0m                             Traceback (most recent call last)",
      "Cell \u001b[1;32mIn [29], line 1\u001b[0m\n\u001b[1;32m----> 1\u001b[0m \u001b[38;5;28mnext\u001b[39m(g)\n",
      "\u001b[1;31mStopIteration\u001b[0m: "
     ]
    }
   ],
   "source": [
    "next(g)"
   ]
  },
  {
   "cell_type": "markdown",
   "id": "ee8d12b2",
   "metadata": {},
   "source": [
    "### Pros of  Generators\n",
    "\n",
    "1. Memory Efficient\n",
    "2. Infinite Sequence\n",
    "\n",
    "`NOTE:`\n",
    "* With normal methods it evaluates whole function at once and utilises memory for entire data, but We know that we can't store infinite sequences in a given memory. \n",
    "* This is where generators come into the picture. As generators can only produce one item at a time, so they can present an infinite stream of data/sequence."
   ]
  }
 ],
 "metadata": {
  "kernelspec": {
   "display_name": "Python 3 (ipykernel)",
   "language": "python",
   "name": "python3"
  },
  "language_info": {
   "codemirror_mode": {
    "name": "ipython",
    "version": 3
   },
   "file_extension": ".py",
   "mimetype": "text/x-python",
   "name": "python",
   "nbconvert_exporter": "python",
   "pygments_lexer": "ipython3",
   "version": "3.10.7"
  }
 },
 "nbformat": 4,
 "nbformat_minor": 5
}
